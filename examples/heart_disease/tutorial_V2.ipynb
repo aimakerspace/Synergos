{
 "cells": [
  {
   "cell_type": "markdown",
   "metadata": {},
   "source": [
    "<font color=\"red\"> WIP. More in-depth elaboration starting from Phase 1: Connect required</font>"
   ]
  },
  {
   "cell_type": "markdown",
   "metadata": {},
   "source": [
    "# Running a Federated Cycle with Synergos\n",
    "\n",
    "This tutorial aims to give you an understanding of how to use the synergos package to run a full federated learning cycle. \n",
    "\n",
    "In a federated learning system, there are many contributory participants, known as Worker nodes, which receive a global model to train on, with their own local dataset. The dataset does not leave the individual Worker nodes at any point, and remains private to the node.\n",
    "\n",
    "The job to synchronize, orchestrate and initiate an federated learning cycle, falls on a Trusted Third Party (TTP). The TTP pushes out the global model architecture and parameters for the individual nodes to train on, calling upon the required data, based on tags, e.g \"training\", which points to relevant data on the individual nodes. At no point does the TTP receive, copy or access the Worker nodes' local datasets.\n",
    "\n",
    "In this tutorial, you will go through the steps required by each participant (TTP and Worker), by simulating each of them locally with docker containers. Specifically, we will simulate a TTP and 2 Workers. \n",
    "\n",
    "At the end of this, we will have:\n",
    "- Connected the participants\n",
    "- Trained the model\n",
    "- Evaluate the model"
   ]
  },
  {
   "cell_type": "markdown",
   "metadata": {},
   "source": [
    "## Initiating the docker containers"
   ]
  },
  {
   "cell_type": "markdown",
   "metadata": {},
   "source": [
    "Before we begin, we have to start the docker containers.\n",
    "\n",
    "Firstly, follow the instructions on __\\<path to pysyft_ttp readme\\>__ and __\\<path to pysyft_worker readme\\>__ on how to build the required docker images for TTP and Workers.\n",
    "\n",
    "Next, in <u>separate</u> CLI terminals, run the following command:\n",
    "\n",
    "**Note: For Windows users, it is advisable to use powershell or command prompt based interfaces**\n",
    "\n",
    "**Worker 1**\n",
    "\n",
    "```docker run -v <directory heart_disease/data1>:/worker/data -v <directory heart_disease/outputs_1>:/worker/outputs --name worker_1 worker:pysyft_demo```\n",
    "\n",
    "**Worker 2**\n",
    "\n",
    "```docker run -v <directory heart_disease/data2>:/worker/data -v <directory heart_disease/outputs_2>:/worker/outputs --name worker_2 worker:pysyft_demo```\n",
    "\n",
    "**TTP**\n",
    "\n",
    "```docker run -p 0.0.0.0:5000:5000 -p 5678:5678 -p 8020:8020 -p 8080:8080 -v <directory /heart_disease/mlflow_test>:/ttp/mlflow --name ttp --link worker_1 --link worker_2 ttp:pysyft_demo```\n"
   ]
  },
  {
   "cell_type": "markdown",
   "metadata": {},
   "source": [
    "Once ready, for each terminal, you should see that a Flask app is running on http://0.0.0.0:5000 of the container.\n",
    "\n",
    "You are now ready for the next step."
   ]
  },
  {
   "cell_type": "markdown",
   "metadata": {},
   "source": [
    "## Configuration\n",
    "\n",
    "In a new terminal, run `docker inspect bridge` and find the IPv4Address for each container. Ideally, the containers should have the following addresses:\n",
    "- worker_1 address: 172.17.0.2\n",
    "- worker_2 address: 172.17.0.3\n",
    "- ttp address: 172.17.0.4\n",
    "\n",
    "Run the following cells below.\n",
    "\n",
    "**Note: For Windows users, `host` should be Docker Desktop VM's IP. Follow [this](https://stackoverflow.com/questions/58073936/how-to-get-ip-address-of-docker-desktop-vm) on instructions to find IP**"
   ]
  },
  {
   "cell_type": "markdown",
   "metadata": {},
   "source": [
    "from synergos import Driver\n",
    "\n",
    "host = \"192.168.1.198\" #\"0.0.0.0\" # Different for Windows users\n",
    "port = 5000\n",
    "\n",
    "# Initiate Driver\n",
    "driver = Driver(host=host, port=port)"
   ]
  },
  {
   "cell_type": "code",
   "execution_count": 1,
   "metadata": {},
   "outputs": [],
   "source": [
    "from synergos import Driver\n",
    "\n",
    "host = \"localhost\" # Different for Windows users\n",
    "port = 5000\n",
    "\n",
    "# Initiate Driver\n",
    "driver = Driver(host=host, port=port)"
   ]
  },
  {
   "cell_type": "markdown",
   "metadata": {},
   "source": [
    "## Phase 1: Connect\n",
    "\n",
    "Submitting TTP & Participant metadata"
   ]
  },
  {
   "cell_type": "code",
   "execution_count": 2,
   "metadata": {},
   "outputs": [
    {
     "data": {
      "text/plain": [
       "{'data': {'doc_id': '1',\n",
       "  'kind': 'Collaboration',\n",
       "  'key': {'collab_id': 'c2'},\n",
       "  'relations': {'Project': [],\n",
       "   'Experiment': [],\n",
       "   'Run': [],\n",
       "   'Registration': [],\n",
       "   'Tag': [],\n",
       "   'Model': [],\n",
       "   'Validation': [],\n",
       "   'Prediction': []}},\n",
       " 'apiVersion': '0.2.0',\n",
       " 'success': 1,\n",
       " 'status': 201,\n",
       " 'method': 'collaborations.post',\n",
       " 'params': {}}"
      ]
     },
     "execution_count": 2,
     "metadata": {},
     "output_type": "execute_result"
    }
   ],
   "source": [
    "collab_task = driver.collaborations\n",
    "collab_task.create(\"c2\")"
   ]
  },
  {
   "cell_type": "markdown",
   "metadata": {},
   "source": [
    "#### 1A. TTP controller creates a project"
   ]
  },
  {
   "cell_type": "code",
   "execution_count": 3,
   "metadata": {},
   "outputs": [
    {
     "data": {
      "text/plain": [
       "{'data': {'doc_id': '1',\n",
       "  'kind': 'Project',\n",
       "  'key': {'collab_id': 'c2', 'project_id': 'test_project'},\n",
       "  'relations': {'Experiment': [],\n",
       "   'Run': [],\n",
       "   'Registration': [],\n",
       "   'Tag': [],\n",
       "   'Model': [],\n",
       "   'Validation': [],\n",
       "   'Prediction': []},\n",
       "  'action': 'classify',\n",
       "  'incentives': {'tier_3': [], 'tier_2': [], 'tier_1': []}},\n",
       " 'apiVersion': '0.2.0',\n",
       " 'success': 1,\n",
       " 'status': 201,\n",
       " 'method': 'projects.post',\n",
       " 'params': {'collab_id': 'c2'}}"
      ]
     },
     "execution_count": 3,
     "metadata": {},
     "output_type": "execute_result"
    }
   ],
   "source": [
    "driver.projects.create(\n",
    "    collab_id=\"c2\",\n",
    "    project_id=\"test_project\",\n",
    "    action=\"classify\",\n",
    "    incentives={\n",
    "        'tier_1': [],\n",
    "        'tier_2': [],\n",
    "        'tier_3': []\n",
    "    }\n",
    ")"
   ]
  },
  {
   "cell_type": "markdown",
   "metadata": {},
   "source": [
    "#### 1B. TTP controller creates an experiment"
   ]
  },
  {
   "cell_type": "code",
   "execution_count": 4,
   "metadata": {},
   "outputs": [
    {
     "data": {
      "text/plain": [
       "{'apiVersion': '0.2.0',\n",
       " 'success': 1,\n",
       " 'status': 201,\n",
       " 'method': 'experiments.post',\n",
       " 'params': {'collab_id': 'c2', 'project_id': 'test_project'},\n",
       " 'data': {'created_at': '2021-06-09 09:51:14 N',\n",
       "  'key': {'collab_id': 'c2',\n",
       "   'expt_id': 'test_experiment',\n",
       "   'project_id': 'test_project'},\n",
       "  'model': [{'activation': None,\n",
       "    'is_input': True,\n",
       "    'l_type': 'Linear',\n",
       "    'structure': {'bias': True, 'in_features': 13, 'out_features': 10}},\n",
       "   {'activation': None, 'is_input': False, 'l_type': 'ReLU', 'structure': {}},\n",
       "   {'activation': None,\n",
       "    'is_input': False,\n",
       "    'l_type': 'Linear',\n",
       "    'structure': {'bias': True, 'in_features': 10, 'out_features': 10}},\n",
       "   {'activation': None, 'is_input': False, 'l_type': 'ReLU', 'structure': {}},\n",
       "   {'activation': None,\n",
       "    'is_input': False,\n",
       "    'l_type': 'Linear',\n",
       "    'structure': {'bias': True, 'in_features': 10, 'out_features': 5}},\n",
       "   {'activation': None, 'is_input': False, 'l_type': 'ReLU', 'structure': {}},\n",
       "   {'activation': None,\n",
       "    'is_input': False,\n",
       "    'l_type': 'Linear',\n",
       "    'structure': {'bias': True, 'in_features': 5, 'out_features': 8}},\n",
       "   {'activation': None, 'is_input': False, 'l_type': 'ReLU', 'structure': {}},\n",
       "   {'activation': None,\n",
       "    'is_input': False,\n",
       "    'l_type': 'Linear',\n",
       "    'structure': {'bias': True, 'in_features': 8, 'out_features': 1}}],\n",
       "  'relations': {'Run': [], 'Model': [], 'Validation': [], 'Prediction': []},\n",
       "  'doc_id': 1,\n",
       "  'kind': 'Experiment'}}"
      ]
     },
     "execution_count": 4,
     "metadata": {},
     "output_type": "execute_result"
    }
   ],
   "source": [
    "driver.experiments.create(\n",
    "    collab_id=\"c2\",\n",
    "    project_id=\"test_project\",\n",
    "    expt_id=\"test_experiment\",\n",
    "    model=[\n",
    "        {\n",
    "            \"activation\": None,\n",
    "            \"is_input\": True,\n",
    "            \"l_type\": \"Linear\",\n",
    "            \"structure\": {\n",
    "                \"bias\": True,\n",
    "                \"in_features\": 13, \n",
    "                \"out_features\": 10 \n",
    "            }\n",
    "        },\n",
    "        {\n",
    "            \"activation\": None,\n",
    "            \"is_input\": False,\n",
    "            \"l_type\": \"ReLU\",\n",
    "            \"structure\": {}\n",
    "        },\n",
    "        {\n",
    "            \"activation\": None,\n",
    "            \"is_input\": False,\n",
    "            \"l_type\": \"Linear\",\n",
    "            \"structure\": {\n",
    "                \"bias\": True,\n",
    "                \"in_features\": 10, \n",
    "                \"out_features\": 10 \n",
    "            }\n",
    "        },\n",
    "        {\n",
    "            \"activation\": None,\n",
    "            \"is_input\": False,\n",
    "            \"l_type\": \"ReLU\",\n",
    "            \"structure\": {}\n",
    "        },\n",
    "        {\n",
    "            \"activation\": None,\n",
    "            \"is_input\": False,\n",
    "            \"l_type\": \"Linear\",\n",
    "            \"structure\": {\n",
    "                \"bias\": True,\n",
    "                \"in_features\": 10, \n",
    "                \"out_features\": 5 \n",
    "            }\n",
    "        },\n",
    "        {\n",
    "            \"activation\": None,\n",
    "            \"is_input\": False,\n",
    "            \"l_type\": \"ReLU\",\n",
    "            \"structure\": {}\n",
    "        },\n",
    "        {\n",
    "            \"activation\": None,\n",
    "            \"is_input\": False,\n",
    "            \"l_type\": \"Linear\",\n",
    "            \"structure\": {\n",
    "                \"bias\": True,\n",
    "                \"in_features\": 5, \n",
    "                \"out_features\": 8 \n",
    "            }\n",
    "        },\n",
    "        {\n",
    "            \"activation\": None,\n",
    "            \"is_input\": False,\n",
    "            \"l_type\": \"ReLU\",\n",
    "            \"structure\": {}\n",
    "        },\n",
    "        {\n",
    "            \"activation\": None,\n",
    "            \"is_input\": False,\n",
    "            \"l_type\": \"Linear\",\n",
    "            \"structure\": {\n",
    "                \"bias\": True,\n",
    "                \"in_features\": 8, \n",
    "                \"out_features\": 1 \n",
    "            }\n",
    "        }\n",
    "#         {\n",
    "#             \"activation\": None,\n",
    "#             \"is_input\": False,\n",
    "#             \"l_type\": \"Sigmoid\",\n",
    "#             \"structure\": {}\n",
    "#         },\n",
    "    ]\n",
    ")"
   ]
  },
  {
   "cell_type": "markdown",
   "metadata": {},
   "source": [
    "#### 1C. TTP controller creates a run"
   ]
  },
  {
   "cell_type": "code",
   "execution_count": 5,
   "metadata": {},
   "outputs": [
    {
     "data": {
      "text/plain": [
       "{'data': {'doc_id': '1',\n",
       "  'kind': 'Run',\n",
       "  'key': {'collab_id': 'c2',\n",
       "   'project_id': 'test_project',\n",
       "   'expt_id': 'test_experiment',\n",
       "   'run_id': 'test_run'},\n",
       "  'relations': {'Model': [], 'Validation': [], 'Prediction': []},\n",
       "  'rounds': 5,\n",
       "  'epochs': 1,\n",
       "  'lr': 0.001,\n",
       "  'lr_decay': 0.1,\n",
       "  'weight_decay': 0.0,\n",
       "  'seed': 42,\n",
       "  'precision_fractional': 5,\n",
       "  'mu': 0.1,\n",
       "  'l1_lambda': 0.0,\n",
       "  'l2_lambda': 0.0,\n",
       "  'base_lr': 0.0005,\n",
       "  'max_lr': 0.005,\n",
       "  'patience': 10,\n",
       "  'delta': 0.0},\n",
       " 'apiVersion': '0.2.0',\n",
       " 'success': 1,\n",
       " 'status': 201,\n",
       " 'method': 'runs.post',\n",
       " 'params': {'collab_id': 'c2',\n",
       "  'project_id': 'test_project',\n",
       "  'expt_id': 'test_experiment'}}"
      ]
     },
     "execution_count": 5,
     "metadata": {},
     "output_type": "execute_result"
    }
   ],
   "source": [
    "driver.runs.create(\n",
    "    collab_id=\"c2\",\n",
    "    project_id=\"test_project\",\n",
    "    expt_id=\"test_experiment\",\n",
    "    run_id=\"test_run\",\n",
    "    rounds=5, \n",
    "    epochs=1,\n",
    "    base_lr=0.0005,\n",
    "    max_lr=0.005,\n",
    "    criterion=\"NLLLoss\",\n",
    "    algorithm=\"FedGKT\",\n",
    "    whether_distill_on_the_server=True,\n",
    "    L=4,\n",
    "    temperature=3,\n",
    "    lr_scheduler='ReduceLROnPlateau',\n",
    "    optimizer='Adam',\n",
    "    server_epochs=3,\n",
    "    alpha=1\n",
    ")"
   ]
  },
  {
   "cell_type": "markdown",
   "metadata": {},
   "source": [
    "#### 1D. Participants registers their servers' configurations"
   ]
  },
  {
   "cell_type": "code",
   "execution_count": 6,
   "metadata": {},
   "outputs": [
    {
     "data": {
      "text/plain": [
       "{'data': {'doc_id': '2',\n",
       "  'kind': 'Participant',\n",
       "  'key': {'participant_id': 'test_participant_2'},\n",
       "  'relations': {'Registration': [], 'Tag': []},\n",
       "  'id': 'test_participant_2'},\n",
       " 'apiVersion': '0.2.0',\n",
       " 'success': 1,\n",
       " 'status': 201,\n",
       " 'method': 'participants.post',\n",
       " 'params': {}}"
      ]
     },
     "execution_count": 6,
     "metadata": {},
     "output_type": "execute_result"
    }
   ],
   "source": [
    "driver.participants.create(participant_id='test_participant_1')\n",
    "driver.participants.create(participant_id='test_participant_2')"
   ]
  },
  {
   "cell_type": "code",
   "execution_count": 7,
   "metadata": {},
   "outputs": [
    {
     "data": {
      "text/plain": [
       "'node_0'"
      ]
     },
     "execution_count": 7,
     "metadata": {},
     "output_type": "execute_result"
    }
   ],
   "source": [
    "registration_task = driver.registrations\n",
    "\n",
    "registration_task.add_node(\n",
    "    host='172.17.0.2',\n",
    "    port=8020,\n",
    "    f_port=5000,\n",
    "    log_msgs=True,\n",
    "    verbose=True\n",
    ")"
   ]
  },
  {
   "cell_type": "code",
   "execution_count": 8,
   "metadata": {},
   "outputs": [
    {
     "data": {
      "text/plain": [
       "{'data': {'doc_id': '1',\n",
       "  'kind': 'Registration',\n",
       "  'key': {'collab_id': 'c2',\n",
       "   'project_id': 'test_project',\n",
       "   'participant_id': 'test_participant_1'},\n",
       "  'relations': {'Tag': []},\n",
       "  'collaboration': {'catalogue_host': None,\n",
       "   'catalogue_port': None,\n",
       "   'logger_host': None,\n",
       "   'logger_ports': {'sysmetrics': None,\n",
       "    'director': None,\n",
       "    'ttp': None,\n",
       "    'worker': None},\n",
       "   'meter_host': None,\n",
       "   'meter_port': None,\n",
       "   'mlops_host': None,\n",
       "   'mlops_port': None,\n",
       "   'mq_host': None,\n",
       "   'mq_port': None,\n",
       "   'ui_host': None,\n",
       "   'ui_port': None},\n",
       "  'project': {'incentives': {'tier_3': [], 'tier_2': [], 'tier_1': []},\n",
       "   'start_at': None},\n",
       "  'participant': {'id': 'test_participant_1'},\n",
       "  'role': 'host',\n",
       "  'n_count': 1,\n",
       "  'node_0': {'host': '172.17.0.2',\n",
       "   'port': 8020,\n",
       "   'log_msgs': True,\n",
       "   'verbose': True,\n",
       "   'f_port': 5000}},\n",
       " 'apiVersion': '0.2.0',\n",
       " 'success': 1,\n",
       " 'status': 201,\n",
       " 'method': 'registration.post',\n",
       " 'params': {'collab_id': 'c2',\n",
       "  'project_id': 'test_project',\n",
       "  'participant_id': 'test_participant_1'}}"
      ]
     },
     "execution_count": 8,
     "metadata": {},
     "output_type": "execute_result"
    }
   ],
   "source": [
    "registration_task.create(\n",
    "    collab_id=\"c2\",\n",
    "    project_id=\"test_project\",\n",
    "    participant_id=\"test_participant_1\",\n",
    "    role=\"host\"\n",
    ")"
   ]
  },
  {
   "cell_type": "code",
   "execution_count": 9,
   "metadata": {},
   "outputs": [
    {
     "data": {
      "text/plain": [
       "'node_0'"
      ]
     },
     "execution_count": 9,
     "metadata": {},
     "output_type": "execute_result"
    }
   ],
   "source": [
    "registration_task.add_node(\n",
    "    host='172.17.0.3',\n",
    "    port=8020,\n",
    "    f_port=5000,\n",
    "    log_msgs=True,\n",
    "    verbose=True\n",
    ")"
   ]
  },
  {
   "cell_type": "code",
   "execution_count": 10,
   "metadata": {},
   "outputs": [
    {
     "data": {
      "text/plain": [
       "{'data': {'doc_id': '2',\n",
       "  'kind': 'Registration',\n",
       "  'key': {'collab_id': 'c2',\n",
       "   'project_id': 'test_project',\n",
       "   'participant_id': 'test_participant_2'},\n",
       "  'relations': {'Tag': []},\n",
       "  'collaboration': {'catalogue_host': None,\n",
       "   'catalogue_port': None,\n",
       "   'logger_host': None,\n",
       "   'logger_ports': {'sysmetrics': None,\n",
       "    'director': None,\n",
       "    'ttp': None,\n",
       "    'worker': None},\n",
       "   'meter_host': None,\n",
       "   'meter_port': None,\n",
       "   'mlops_host': None,\n",
       "   'mlops_port': None,\n",
       "   'mq_host': None,\n",
       "   'mq_port': None,\n",
       "   'ui_host': None,\n",
       "   'ui_port': None},\n",
       "  'project': {'incentives': {'tier_3': [], 'tier_2': [], 'tier_1': []},\n",
       "   'start_at': None},\n",
       "  'participant': {'id': 'test_participant_2'},\n",
       "  'role': 'guest',\n",
       "  'n_count': 1,\n",
       "  'node_0': {'host': '172.17.0.3',\n",
       "   'port': 8020,\n",
       "   'log_msgs': True,\n",
       "   'verbose': True,\n",
       "   'f_port': 5000}},\n",
       " 'apiVersion': '0.2.0',\n",
       " 'success': 1,\n",
       " 'status': 201,\n",
       " 'method': 'registration.post',\n",
       " 'params': {'collab_id': 'c2',\n",
       "  'project_id': 'test_project',\n",
       "  'participant_id': 'test_participant_2'}}"
      ]
     },
     "execution_count": 10,
     "metadata": {},
     "output_type": "execute_result"
    }
   ],
   "source": [
    "registration_task.create(\n",
    "    collab_id=\"c2\",\n",
    "    project_id=\"test_project\",\n",
    "    participant_id=\"test_participant_2\",\n",
    "    role=\"guest\"\n",
    ")"
   ]
  },
  {
   "cell_type": "code",
   "execution_count": 11,
   "metadata": {},
   "outputs": [
    {
     "data": {
      "text/plain": [
       "'\\ndriver.participants.create(\\n    participant_id=\"test_participant_1\",\\n    host=\\'172.17.0.2\\',\\n    port=8020,\\n    f_port=5000,\\n    log_msgs=True,\\n    verbose=True\\n)\\n\\ndriver.participants.create(\\n    participant_id=\"test_participant_2\",\\n    host=\\'172.17.0.3\\',\\n    port=8020,\\n    f_port=5000,\\n    log_msgs=True,\\n    verbose=True\\n)\\n'"
      ]
     },
     "execution_count": 11,
     "metadata": {},
     "output_type": "execute_result"
    }
   ],
   "source": [
    "'''\n",
    "driver.participants.create(\n",
    "    participant_id=\"test_participant_1\",\n",
    "    host='172.17.0.2',\n",
    "    port=8020,\n",
    "    f_port=5000,\n",
    "    log_msgs=True,\n",
    "    verbose=True\n",
    ")\n",
    "\n",
    "driver.participants.create(\n",
    "    participant_id=\"test_participant_2\",\n",
    "    host='172.17.0.3',\n",
    "    port=8020,\n",
    "    f_port=5000,\n",
    "    log_msgs=True,\n",
    "    verbose=True\n",
    ")\n",
    "'''"
   ]
  },
  {
   "cell_type": "markdown",
   "metadata": {},
   "source": [
    "#### 1E. Participants registers their role in a specific project"
   ]
  },
  {
   "cell_type": "code",
   "execution_count": 12,
   "metadata": {},
   "outputs": [
    {
     "data": {
      "text/plain": [
       "'\\ndriver.registrations.create(\\n    project_id=\"test_project\",\\n    participant_id=\"test_participant_1\",\\n    role=\"guest\"\\n)\\n\\ndriver.registrations.create(\\n    project_id=\"test_project\",\\n    participant_id=\"test_participant_2\",\\n    role=\"host\"\\n)\\n'"
      ]
     },
     "execution_count": 12,
     "metadata": {},
     "output_type": "execute_result"
    }
   ],
   "source": [
    "'''\n",
    "driver.registrations.create(\n",
    "    project_id=\"test_project\",\n",
    "    participant_id=\"test_participant_1\",\n",
    "    role=\"guest\"\n",
    ")\n",
    "\n",
    "driver.registrations.create(\n",
    "    project_id=\"test_project\",\n",
    "    participant_id=\"test_participant_2\",\n",
    "    role=\"host\"\n",
    ")\n",
    "'''"
   ]
  },
  {
   "cell_type": "markdown",
   "metadata": {},
   "source": [
    "#### 1F. Participants registers their tags for a specific project"
   ]
  },
  {
   "cell_type": "code",
   "execution_count": 13,
   "metadata": {},
   "outputs": [
    {
     "data": {
      "text/plain": [
       "{'data': {'doc_id': '2',\n",
       "  'kind': 'Tag',\n",
       "  'key': {'collab_id': 'c2',\n",
       "   'project_id': 'test_project',\n",
       "   'participant_id': 'test_participant_2'},\n",
       "  'train': [['non_iid_2']],\n",
       "  'evaluate': [],\n",
       "  'predict': []},\n",
       " 'apiVersion': '0.2.0',\n",
       " 'success': 1,\n",
       " 'status': 201,\n",
       " 'method': 'tag.post',\n",
       " 'params': {'collab_id': 'c2',\n",
       "  'project_id': 'test_project',\n",
       "  'participant_id': 'test_participant_2'}}"
      ]
     },
     "execution_count": 13,
     "metadata": {},
     "output_type": "execute_result"
    }
   ],
   "source": [
    "driver.tags.create(\n",
    "    collab_id=\"c2\",\n",
    "    project_id=\"test_project\",\n",
    "    participant_id=\"test_participant_1\",\n",
    "    train=[\n",
    "        [\"non_iid_1\"]\n",
    "    ],\n",
    "    evaluate=[[\"iid_1\"]]\n",
    ")\n",
    "\n",
    "driver.tags.create(\n",
    "    collab_id=\"c2\",\n",
    "    project_id=\"test_project\",\n",
    "    participant_id=\"test_participant_2\",\n",
    "    train=[[\"non_iid_2\"]]\n",
    ")"
   ]
  },
  {
   "cell_type": "markdown",
   "metadata": {},
   "source": [
    "## Phase 2:\n",
    "Alignment, Training & Optimisation"
   ]
  },
  {
   "cell_type": "markdown",
   "metadata": {},
   "source": [
    "#### 2A. Perform multiple feature alignment to dynamically configure datasets and models for cross-grid compatibility"
   ]
  },
  {
   "cell_type": "code",
   "execution_count": 14,
   "metadata": {},
   "outputs": [
    {
     "data": {
      "text/plain": [
       "{'data': [{'doc_id': '1',\n",
       "   'kind': 'Alignment',\n",
       "   'key': {'collab_id': 'c2',\n",
       "    'project_id': 'test_project',\n",
       "    'participant_id': 'test_participant_2'},\n",
       "   'train': {'X': [], 'y': []},\n",
       "   'evaluate': {'X': [], 'y': []},\n",
       "   'predict': {'X': [], 'y': []}},\n",
       "  {'doc_id': '2',\n",
       "   'kind': 'Alignment',\n",
       "   'key': {'collab_id': 'c2',\n",
       "    'project_id': 'test_project',\n",
       "    'participant_id': 'test_participant_1'},\n",
       "   'train': {'X': [], 'y': []},\n",
       "   'evaluate': {'X': [], 'y': []},\n",
       "   'predict': {'X': [], 'y': []}}],\n",
       " 'apiVersion': '0.2.0',\n",
       " 'success': 1,\n",
       " 'status': 201,\n",
       " 'method': 'alignments.post',\n",
       " 'params': {'collab_id': 'c2', 'project_id': 'test_project'}}"
      ]
     },
     "execution_count": 14,
     "metadata": {},
     "output_type": "execute_result"
    }
   ],
   "source": [
    "driver.alignments.create(collab_id=\"c2\", project_id=\"test_project\")"
   ]
  },
  {
   "cell_type": "markdown",
   "metadata": {},
   "source": [
    "#### 2B. Trigger training across the federated grid"
   ]
  },
  {
   "cell_type": "code",
   "execution_count": 15,
   "metadata": {},
   "outputs": [],
   "source": [
    "model_resp = driver.models.create(\n",
    "    collab_id=\"c2\",\n",
    "    project_id=\"test_project\",\n",
    "    expt_id=\"test_experiment\",\n",
    "    run_id=\"test_run\"\n",
    ")"
   ]
  },
  {
   "cell_type": "markdown",
   "metadata": {},
   "source": [
    "#### 2C. Trigger hyperparameter optimisation across the grid"
   ]
  },
  {
   "cell_type": "code",
   "execution_count": null,
   "metadata": {},
   "outputs": [],
   "source": []
  },
  {
   "cell_type": "markdown",
   "metadata": {},
   "source": [
    "## Phase 3: EVALUATE \n",
    "Validation & Predictions"
   ]
  },
  {
   "cell_type": "markdown",
   "metadata": {},
   "source": [
    "#### 3A. Perform validation(s) of combination(s)"
   ]
  },
  {
   "cell_type": "code",
   "execution_count": 17,
   "metadata": {},
   "outputs": [
    {
     "data": {
      "text/plain": [
       "{'data': [{'doc_id': '1',\n",
       "   'kind': 'Validation',\n",
       "   'key': {'participant_id': 'test_participant_1',\n",
       "    'collab_id': 'c2',\n",
       "    'project_id': 'test_project',\n",
       "    'expt_id': 'test_experiment',\n",
       "    'run_id': 'test_run'},\n",
       "   'evaluate': {'statistics': {'accuracy': [0.4254215304798962,\n",
       "      0.788586251621271,\n",
       "      0.8391699092088197,\n",
       "      0.8404669260700389,\n",
       "      0.9571984435797666],\n",
       "     'roc_auc_score': [0.7368551450751527,\n",
       "      0.38828907006780755,\n",
       "      0.4647878546143491,\n",
       "      0.3779985948007628,\n",
       "      0.5724726944239139],\n",
       "     'pr_auc_score': [0.5863141821038254,\n",
       "      0.1821355880724637,\n",
       "      0.16043133176378976,\n",
       "      0.15628833085577729,\n",
       "      0.0467752200155003],\n",
       "     'f_score': [0.5969062784349408, 0.0, 0.0, 0.0, 0.0],\n",
       "     'TPRs': [1.0, 0.0, 0.0, 0.0, 0.0],\n",
       "     'TNRs': [0.0, 1.0, 1.0, 1.0, 1.0],\n",
       "     'PPVs': [0.4254215304798962, 0.0, 0.0, 0.0, 0.0],\n",
       "     'NPVs': [0.0,\n",
       "      0.788586251621271,\n",
       "      0.8391699092088197,\n",
       "      0.8404669260700389,\n",
       "      0.9571984435797666],\n",
       "     'FPRs': [1.0, 0.0, 0.0, 0.0, 0.0],\n",
       "     'FNRs': [0.0, 1.0, 1.0, 1.0, 1.0],\n",
       "     'FDRs': [0.5745784695201037, 0.0, 0.0, 0.0, 0.0],\n",
       "     'TPs': [328, 0, 0, 0, 0],\n",
       "     'TNs': [0, 608, 647, 648, 738],\n",
       "     'FPs': [443, 0, 0, 0, 0],\n",
       "     'FNs': [0, 163, 124, 123, 33]},\n",
       "    'res_path': '/worker/outputs/c2/test_project/test_experiment/test_run/evaluate/inference_statistics_evaluate.json'}}],\n",
       " 'apiVersion': '0.2.0',\n",
       " 'success': 1,\n",
       " 'status': 200,\n",
       " 'method': 'validations.post',\n",
       " 'params': {'collab_id': 'c2',\n",
       "  'project_id': 'test_project',\n",
       "  'expt_id': 'test_experiment',\n",
       "  'run_id': 'test_run'}}"
      ]
     },
     "execution_count": 17,
     "metadata": {},
     "output_type": "execute_result"
    }
   ],
   "source": [
    "driver.validations.create(\n",
    "    collab_id='c2',\n",
    "    project_id=\"test_project\",\n",
    "    expt_id=\"test_experiment\",\n",
    "    run_id=\"test_run\"\n",
    ")"
   ]
  },
  {
   "cell_type": "markdown",
   "metadata": {},
   "source": [
    "#### 3B. Perform prediction(s) of combination(s)"
   ]
  },
  {
   "cell_type": "code",
   "execution_count": 18,
   "metadata": {},
   "outputs": [
    {
     "data": {
      "text/plain": [
       "{'data': [{'doc_id': '1',\n",
       "   'kind': 'Prediction',\n",
       "   'key': {'participant_id': 'test_participant_1',\n",
       "    'project_id': 'test_project',\n",
       "    'expt_id': 'test_experiment',\n",
       "    'run_id': 'test_run'},\n",
       "   'predict': {'statistics': {'accuracy': [0.4254215304798962,\n",
       "      0.788586251621271,\n",
       "      0.8391699092088197,\n",
       "      0.8404669260700389,\n",
       "      0.9571984435797666],\n",
       "     'roc_auc_score': [0.7368551450751527,\n",
       "      0.38828907006780755,\n",
       "      0.4647878546143491,\n",
       "      0.3779985948007628,\n",
       "      0.5724726944239139],\n",
       "     'pr_auc_score': [0.5863141821038254,\n",
       "      0.1821355880724637,\n",
       "      0.16043133176378976,\n",
       "      0.15628833085577729,\n",
       "      0.0467752200155003],\n",
       "     'f_score': [0.5969062784349408, 0.0, 0.0, 0.0, 0.0],\n",
       "     'TPRs': [1.0, 0.0, 0.0, 0.0, 0.0],\n",
       "     'TNRs': [0.0, 1.0, 1.0, 1.0, 1.0],\n",
       "     'PPVs': [0.4254215304798962, 0.0, 0.0, 0.0, 0.0],\n",
       "     'NPVs': [0.0,\n",
       "      0.788586251621271,\n",
       "      0.8391699092088197,\n",
       "      0.8404669260700389,\n",
       "      0.9571984435797666],\n",
       "     'FPRs': [1.0, 0.0, 0.0, 0.0, 0.0],\n",
       "     'FNRs': [0.0, 1.0, 1.0, 1.0, 1.0],\n",
       "     'FDRs': [0.5745784695201037, 0.0, 0.0, 0.0, 0.0],\n",
       "     'TPs': [328, 0, 0, 0, 0],\n",
       "     'TNs': [0, 608, 647, 648, 738],\n",
       "     'FPs': [443, 0, 0, 0, 0],\n",
       "     'FNs': [0, 163, 124, 123, 33]},\n",
       "    'res_path': '/worker/outputs/c2/test_project/test_experiment/test_run/predict/inference_statistics_predict.json'}}],\n",
       " 'apiVersion': '0.2.0',\n",
       " 'success': 1,\n",
       " 'status': 200,\n",
       " 'method': 'predictions.post',\n",
       " 'params': {'collab_id': 'c2',\n",
       "  'project_id': 'test_project',\n",
       "  'expt_id': 'test_experiment',\n",
       "  'run_id': 'test_run',\n",
       "  'participant_id': 'test_participant_1'}}"
      ]
     },
     "execution_count": 18,
     "metadata": {},
     "output_type": "execute_result"
    }
   ],
   "source": [
    "driver.predictions.create(\n",
    "    collab_id=\"c2\",\n",
    "    tags={\"test_project\": [[\"iid_1\"]]},\n",
    "    participant_id=\"test_participant_1\",\n",
    "    project_id=\"test_project\",\n",
    "    expt_id=\"test_experiment\",\n",
    "    run_id=\"test_run\"\n",
    ")"
   ]
  },
  {
   "cell_type": "code",
   "execution_count": null,
   "metadata": {},
   "outputs": [],
   "source": []
  }
 ],
 "metadata": {
  "kernelspec": {
   "display_name": "Python 3",
   "language": "python",
   "name": "python3"
  },
  "language_info": {
   "codemirror_mode": {
    "name": "ipython",
    "version": 3
   },
   "file_extension": ".py",
   "mimetype": "text/x-python",
   "name": "python",
   "nbconvert_exporter": "python",
   "pygments_lexer": "ipython3",
   "version": "3.7.9"
  }
 },
 "nbformat": 4,
 "nbformat_minor": 4
}
