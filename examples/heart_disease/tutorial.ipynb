{
 "cells": [
  {
   "cell_type": "markdown",
   "metadata": {},
   "source": [
    "<font color=\"red\"> WIP. More in-depth elaboration starting from Phase 1: Connect required</font>"
   ]
  },
  {
   "cell_type": "markdown",
   "metadata": {},
   "source": [
    "# Running a Federated Cycle with Synergos\n",
    "\n",
    "This tutorial aims to give you an understanding of how to use the synergos package to run a full federated learning cycle. \n",
    "\n",
    "In a federated learning system, there are many contributory participants, known as Worker nodes, which receive a global model to train on, with their own local dataset. The dataset does not leave the individual Worker nodes at any point, and remains private to the node.\n",
    "\n",
    "The job to synchronize, orchestrate and initiate an federated learning cycle, falls on a Trusted Third Party (TTP). The TTP pushes out the global model architecture and parameters for the individual nodes to train on, calling upon the required data, based on tags, e.g \"training\", which points to relevant data on the individual nodes. At no point does the TTP receive, copy or access the Worker nodes' local datasets.\n",
    "\n",
    "In this tutorial, you will go through the steps required by each participant (TTP and Worker), by simulating each of them locally with docker containers. Specifically, we will simulate a TTP and 2 Workers. \n",
    "\n",
    "At the end of this, we will have:\n",
    "- Connected the participants\n",
    "- Trained the model\n",
    "- Evaluate the model"
   ]
  },
  {
   "cell_type": "markdown",
   "metadata": {},
   "source": [
    "## Initiating the docker containers"
   ]
  },
  {
   "cell_type": "markdown",
   "metadata": {},
   "source": [
    "Before we begin, we have to start the docker containers.\n",
    "\n",
    "Firstly, follow the instructions on __\\<path to pysyft_ttp readme\\>__ and __\\<path to pysyft_worker readme\\>__ on how to build the required docker images for TTP and Workers.\n",
    "\n",
    "Next, in <u>separate</u> CLI terminals, run the following command:\n",
    "\n",
    "**Note: For Windows users, it is advisable to use powershell or command prompt based interfaces**\n",
    "\n",
    "**Worker 1**\n",
    "\n",
    "```docker run -v <directory heart_disease/data1>:/worker/data -v <directory heart_disease/outputs_1>:/worker/outputs --name worker_1 worker:pysyft_demo```\n",
    "\n",
    "**Worker 2**\n",
    "\n",
    "```docker run -v <directory heart_disease/data2>:/worker/data -v <directory heart_disease/outputs_2>:/worker/outputs --name worker_2 worker:pysyft_demo```\n",
    "\n",
    "**TTP**\n",
    "\n",
    "```docker run -p 0.0.0.0:5000:5000 -p 5678:5678 -p 8020:8020 -p 8080:8080 -v <directory /heart_disease/mlflow_test>:/ttp/mlflow --name ttp --link worker_1 --link worker_2 ttp:pysyft_demo```\n"
   ]
  },
  {
   "cell_type": "markdown",
   "metadata": {},
   "source": [
    "Once ready, for each terminal, you should see that a Flask app is running on http://0.0.0.0:5000 of the container.\n",
    "\n",
    "You are now ready for the next step."
   ]
  },
  {
   "cell_type": "markdown",
   "metadata": {},
   "source": [
    "## Configuration\n",
    "\n",
    "In a new terminal, run `docker inspect bridge` and find the IPv4Address for each container. Ideally, the containers should have the following addresses:\n",
    "- worker_1 address: 172.17.0.2\n",
    "- worker_2 address: 172.17.0.3\n",
    "- ttp address: 172.17.0.4\n",
    "\n",
    "Run the following cells below.\n",
    "\n",
    "**Note: For Windows users, `host` should be Docker Desktop VM's IP. Follow [this](https://stackoverflow.com/questions/58073936/how-to-get-ip-address-of-docker-desktop-vm) on instructions to find IP**"
   ]
  },
  {
   "cell_type": "markdown",
   "metadata": {},
   "source": [
    "from synergos import Driver\n",
    "\n",
    "host = \"192.168.1.198\" #\"0.0.0.0\" # Different for Windows users\n",
    "port = 5000\n",
    "\n",
    "# Initiate Driver\n",
    "driver = Driver(host=host, port=port)"
   ]
  },
  {
   "cell_type": "code",
   "execution_count": 1,
   "metadata": {},
   "outputs": [],
   "source": [
    "from synergos import Driver\n",
    "\n",
    "host = \"localhost\" # Different for Windows users\n",
    "port = 5000\n",
    "\n",
    "# Initiate Driver\n",
    "driver = Driver(host=host, port=port)"
   ]
  },
  {
   "cell_type": "markdown",
   "metadata": {},
   "source": [
    "## Phase 1: Connect\n",
    "\n",
    "Submitting TTP & Participant metadata"
   ]
  },
  {
   "cell_type": "markdown",
   "metadata": {},
   "source": [
    "#### 1A. TTP controller creates a project"
   ]
  },
  {
   "cell_type": "code",
   "execution_count": 2,
   "metadata": {},
   "outputs": [
    {
     "data": {
      "text/plain": [
       "{'data': {'doc_id': '1',\n",
       "  'kind': 'Project',\n",
       "  'key': {'project_id': 'test_project'},\n",
       "  'relations': {'Experiment': [],\n",
       "   'Run': [],\n",
       "   'Registration': [],\n",
       "   'Tag': [],\n",
       "   'Model': [],\n",
       "   'Validation': [],\n",
       "   'Prediction': []},\n",
       "  'action': 'classify',\n",
       "  'incentives': {'tier_3': [], 'tier_2': [], 'tier_1': []}},\n",
       " 'apiVersion': '0.0.1',\n",
       " 'success': 1,\n",
       " 'status': 201,\n",
       " 'method': 'projects.post',\n",
       " 'params': {}}"
      ]
     },
     "execution_count": 2,
     "metadata": {},
     "output_type": "execute_result"
    }
   ],
   "source": [
    "driver.projects.create(\n",
    "    project_id=\"test_project\",\n",
    "    action=\"classify\",\n",
    "    incentives={\n",
    "        'tier_1': [],\n",
    "        'tier_2': [],\n",
    "        'tier_3': []\n",
    "    }\n",
    ")"
   ]
  },
  {
   "cell_type": "markdown",
   "metadata": {},
   "source": [
    "#### 1B. TTP controller creates an experiment"
   ]
  },
  {
   "cell_type": "code",
   "execution_count": 3,
   "metadata": {},
   "outputs": [
    {
     "data": {
      "text/plain": [
       "{'apiVersion': '0.0.1',\n",
       " 'success': 1,\n",
       " 'status': 201,\n",
       " 'method': 'experiments.post',\n",
       " 'params': {'project_id': 'test_project'},\n",
       " 'data': {'created_at': '2020-10-26 10:15:57 N',\n",
       "  'key': {'expt_id': 'test_experiment', 'project_id': 'test_project'},\n",
       "  'model': [{'activation': 'sigmoid',\n",
       "    'is_input': True,\n",
       "    'l_type': 'Linear',\n",
       "    'structure': {'bias': True, 'in_features': 15, 'out_features': 1}}],\n",
       "  'relations': {'Run': [], 'Model': [], 'Validation': [], 'Prediction': []},\n",
       "  'doc_id': 1,\n",
       "  'kind': 'Experiment'}}"
      ]
     },
     "execution_count": 3,
     "metadata": {},
     "output_type": "execute_result"
    }
   ],
   "source": [
    "driver.experiments.create(\n",
    "    project_id=\"test_project\",\n",
    "    expt_id=\"test_experiment\",\n",
    "    model=[\n",
    "        {\n",
    "            \"activation\": \"sigmoid\",\n",
    "            \"is_input\": True,\n",
    "            \"l_type\": \"Linear\",\n",
    "            \"structure\": {\n",
    "                \"bias\": True,\n",
    "                \"in_features\": 15, \n",
    "                \"out_features\": 1 \n",
    "            }\n",
    "        }\n",
    "    ]\n",
    ")"
   ]
  },
  {
   "cell_type": "markdown",
   "metadata": {},
   "source": [
    "#### 1C. TTP controller creates a run"
   ]
  },
  {
   "cell_type": "code",
   "execution_count": 4,
   "metadata": {},
   "outputs": [
    {
     "data": {
      "text/plain": [
       "{'data': {'doc_id': '1',\n",
       "  'kind': 'Run',\n",
       "  'key': {'project_id': 'test_project',\n",
       "   'expt_id': 'test_experiment',\n",
       "   'run_id': 'test_run'},\n",
       "  'relations': {'Model': [], 'Validation': [], 'Prediction': []},\n",
       "  'rounds': 2,\n",
       "  'epochs': 1,\n",
       "  'lr': 0.001,\n",
       "  'lr_decay': 0.1,\n",
       "  'weight_decay': 0.0,\n",
       "  'seed': 42,\n",
       "  'precision_fractional': 5,\n",
       "  'mu': 0.1,\n",
       "  'l1_lambda': 0.0,\n",
       "  'l2_lambda': 0.0,\n",
       "  'base_lr': 0.0005,\n",
       "  'max_lr': 0.005,\n",
       "  'patience': 10,\n",
       "  'delta': 0.0},\n",
       " 'apiVersion': '0.0.1',\n",
       " 'success': 1,\n",
       " 'status': 201,\n",
       " 'method': 'runs.post',\n",
       " 'params': {'project_id': 'test_project', 'expt_id': 'test_experiment'}}"
      ]
     },
     "execution_count": 4,
     "metadata": {},
     "output_type": "execute_result"
    }
   ],
   "source": [
    "driver.runs.create(\n",
    "    project_id=\"test_project\",\n",
    "    expt_id=\"test_experiment\",\n",
    "    run_id=\"test_run\",\n",
    "    rounds=2, \n",
    "    epochs=1,\n",
    "    base_lr=0.0005,\n",
    "    max_lr=0.005,\n",
    "    criterion=\"NLLLoss\"\n",
    ")"
   ]
  },
  {
   "cell_type": "markdown",
   "metadata": {},
   "source": [
    "#### 1D. Participants registers their servers' configurations"
   ]
  },
  {
   "cell_type": "code",
   "execution_count": 5,
   "metadata": {},
   "outputs": [
    {
     "data": {
      "text/plain": [
       "{'data': {'doc_id': '2',\n",
       "  'kind': 'Participant',\n",
       "  'key': {'participant_id': 'test_participant_2'},\n",
       "  'relations': {'Registration': [], 'Tag': []},\n",
       "  'id': 'test_participant_2',\n",
       "  'host': '172.17.0.3',\n",
       "  'port': 8020,\n",
       "  'log_msgs': True,\n",
       "  'verbose': True,\n",
       "  'f_port': 5000},\n",
       " 'apiVersion': '0.0.1',\n",
       " 'success': 1,\n",
       " 'status': 201,\n",
       " 'method': 'participants.post',\n",
       " 'params': {}}"
      ]
     },
     "execution_count": 5,
     "metadata": {},
     "output_type": "execute_result"
    }
   ],
   "source": [
    "driver.participants.create(\n",
    "    participant_id=\"test_participant_1\",\n",
    "    host='172.17.0.2',\n",
    "    port=8020,\n",
    "    f_port=5000,\n",
    "    log_msgs=True,\n",
    "    verbose=True\n",
    ")\n",
    "\n",
    "driver.participants.create(\n",
    "    participant_id=\"test_participant_2\",\n",
    "    host='172.17.0.3',\n",
    "    port=8020,\n",
    "    f_port=5000,\n",
    "    log_msgs=True,\n",
    "    verbose=True\n",
    ")"
   ]
  },
  {
   "cell_type": "markdown",
   "metadata": {},
   "source": [
    "#### 1E. Participants registers their role in a specific project"
   ]
  },
  {
   "cell_type": "code",
   "execution_count": 6,
   "metadata": {},
   "outputs": [
    {
     "data": {
      "text/plain": [
       "{'data': {'doc_id': '2',\n",
       "  'kind': 'Registration',\n",
       "  'key': {'project_id': 'test_project',\n",
       "   'participant_id': 'test_participant_2'},\n",
       "  'relations': {'Tag': []},\n",
       "  'project': {'incentives': {'tier_3': [], 'tier_2': [], 'tier_1': []},\n",
       "   'start_at': None},\n",
       "  'participant': {'id': 'test_participant_2',\n",
       "   'host': '172.17.0.3',\n",
       "   'port': 8020,\n",
       "   'f_port': 5000,\n",
       "   'log_msgs': True,\n",
       "   'verbose': True},\n",
       "  'role': 'host'},\n",
       " 'apiVersion': '0.0.1',\n",
       " 'success': 1,\n",
       " 'status': 201,\n",
       " 'method': 'registration.post',\n",
       " 'params': {}}"
      ]
     },
     "execution_count": 6,
     "metadata": {},
     "output_type": "execute_result"
    }
   ],
   "source": [
    "driver.registrations.create(\n",
    "    project_id=\"test_project\",\n",
    "    participant_id=\"test_participant_1\",\n",
    "    role=\"guest\"\n",
    ")\n",
    "\n",
    "driver.registrations.create(\n",
    "    project_id=\"test_project\",\n",
    "    participant_id=\"test_participant_2\",\n",
    "    role=\"host\"\n",
    ")"
   ]
  },
  {
   "cell_type": "markdown",
   "metadata": {},
   "source": [
    "#### 1F. Participants registers their tags for a specific project"
   ]
  },
  {
   "cell_type": "code",
   "execution_count": 7,
   "metadata": {},
   "outputs": [
    {
     "data": {
      "text/plain": [
       "{'data': {'doc_id': '2',\n",
       "  'kind': 'Tag',\n",
       "  'key': {'project_id': 'test_project',\n",
       "   'participant_id': 'test_participant_2'},\n",
       "  'train': [['non_iid_2']],\n",
       "  'evaluate': [],\n",
       "  'predict': []},\n",
       " 'apiVersion': '0.0.1',\n",
       " 'success': 1,\n",
       " 'status': 201,\n",
       " 'method': 'tags.post',\n",
       " 'params': {'project_id': 'test_project',\n",
       "  'participant_id': 'test_participant_2'}}"
      ]
     },
     "execution_count": 7,
     "metadata": {},
     "output_type": "execute_result"
    }
   ],
   "source": [
    "driver.tags.create(\n",
    "    project_id=\"test_project\",\n",
    "    participant_id=\"test_participant_1\",\n",
    "    train=[\n",
    "        [\"non_iid_1\"]\n",
    "    ],\n",
    "    evaluate=[[\"iid_1\"]]\n",
    ")\n",
    "\n",
    "driver.tags.create(\n",
    "    project_id=\"test_project\",\n",
    "    participant_id=\"test_participant_2\",\n",
    "    train=[[\"non_iid_2\"]]\n",
    ")"
   ]
  },
  {
   "cell_type": "markdown",
   "metadata": {},
   "source": [
    "## Phase 2:\n",
    "Alignment, Training & Optimisation"
   ]
  },
  {
   "cell_type": "markdown",
   "metadata": {},
   "source": [
    "#### 2A. Perform multiple feature alignment to dynamically configure datasets and models for cross-grid compatibility"
   ]
  },
  {
   "cell_type": "code",
   "execution_count": 8,
   "metadata": {},
   "outputs": [
    {
     "data": {
      "text/plain": [
       "{'apiVersion': '0.0.1',\n",
       " 'success': 1,\n",
       " 'status': 201,\n",
       " 'method': 'alignments.post',\n",
       " 'params': {'project_id': 'test_project'},\n",
       " 'data': [{'created_at': '2020-10-26 10:16:08 N',\n",
       "   'key': {'participant_id': 'test_participant_2',\n",
       "    'project_id': 'test_project'},\n",
       "   'link': {'alignment_id': '43a4c21e177411ebaae90242ac110004',\n",
       "    'registration_id': '40b07bde177411ebbbb50242ac110004',\n",
       "    'tag_id': '41c9e73a177411eba0380242ac110004'},\n",
       "   'train': {'X': [], 'y': []},\n",
       "   'relations': {},\n",
       "   'doc_id': 1,\n",
       "   'kind': 'Alignment'},\n",
       "  {'created_at': '2020-10-26 10:16:08 N',\n",
       "   'evaluate': {'X': [], 'y': []},\n",
       "   'key': {'participant_id': 'test_participant_1',\n",
       "    'project_id': 'test_project'},\n",
       "   'link': {'alignment_id': '43a679ec177411ebaae90242ac110004',\n",
       "    'registration_id': '40acf234177411ebbd9f0242ac110004',\n",
       "    'tag_id': '41c707f4177411eb93080242ac110004'},\n",
       "   'train': {'X': [], 'y': []},\n",
       "   'relations': {},\n",
       "   'doc_id': 2,\n",
       "   'kind': 'Alignment'}]}"
      ]
     },
     "execution_count": 8,
     "metadata": {},
     "output_type": "execute_result"
    }
   ],
   "source": [
    "driver.alignments.create(project_id=\"test_project\")"
   ]
  },
  {
   "cell_type": "markdown",
   "metadata": {},
   "source": [
    "#### 2B. Trigger training across the federated grid"
   ]
  },
  {
   "cell_type": "code",
   "execution_count": 13,
   "metadata": {},
   "outputs": [],
   "source": [
    "model_resp = driver.models.create(\n",
    "    project_id=\"test_project\",\n",
    "    expt_id=\"test_experiment\",\n",
    "    run_id=\"test_run\"\n",
    ")"
   ]
  },
  {
   "cell_type": "markdown",
   "metadata": {},
   "source": [
    "#### 2C. Trigger hyperparameter optimisation across the grid"
   ]
  },
  {
   "cell_type": "code",
   "execution_count": null,
   "metadata": {},
   "outputs": [],
   "source": []
  },
  {
   "cell_type": "markdown",
   "metadata": {},
   "source": [
    "## Phase 3: EVALUATE \n",
    "Validation & Predictions"
   ]
  },
  {
   "cell_type": "markdown",
   "metadata": {},
   "source": [
    "#### 3A. Perform validation(s) of combination(s)"
   ]
  },
  {
   "cell_type": "code",
   "execution_count": 11,
   "metadata": {},
   "outputs": [
    {
     "data": {
      "text/plain": [
       "{'data': [{'doc_id': '1',\n",
       "   'kind': 'Validation',\n",
       "   'key': {'participant_id': 'test_participant_1',\n",
       "    'project_id': 'test_project',\n",
       "    'expt_id': 'test_experiment',\n",
       "    'run_id': 'test_run'},\n",
       "   'evaluate': {'statistics': {'accuracy': [0.5058365758754864,\n",
       "      0.7795071335927367,\n",
       "      0.7328145265888456,\n",
       "      0.8391699092088197,\n",
       "      0.2490272373540856],\n",
       "     'roc_auc_score': [0.18136458734790506,\n",
       "      0.4112851146270584,\n",
       "      0.3456897841152715,\n",
       "      0.5531717354210579,\n",
       "      0.5288248337028825],\n",
       "     'pr_auc_score': [0.2769722374256113,\n",
       "      0.17033734181564716,\n",
       "      0.11497254785684327,\n",
       "      0.20903177138896742,\n",
       "      0.04816693871025879],\n",
       "     'f_score': [0.020565552699228794,\n",
       "      0.011627906976744186,\n",
       "      0.08849557522123894,\n",
       "      0.0,\n",
       "      0.08240887480190175],\n",
       "     'TPRs': [0.012195121951219513,\n",
       "      0.006134969325153374,\n",
       "      0.08064516129032258,\n",
       "      0.0,\n",
       "      0.7878787878787878],\n",
       "     'TNRs': [0.871331828442438,\n",
       "      0.9868421052631579,\n",
       "      0.8578052550231839,\n",
       "      0.9984567901234568,\n",
       "      0.22493224932249323],\n",
       "     'PPVs': [0.06557377049180328,\n",
       "      0.1111111111111111,\n",
       "      0.09803921568627451,\n",
       "      0.0,\n",
       "      0.043478260869565216],\n",
       "     'NPVs': [0.543661971830986,\n",
       "      0.7874015748031497,\n",
       "      0.8295964125560538,\n",
       "      0.8402597402597403,\n",
       "      0.9595375722543352],\n",
       "     'FPRs': [0.12866817155756208,\n",
       "      0.013157894736842105,\n",
       "      0.14219474497681608,\n",
       "      0.0015432098765432098,\n",
       "      0.7750677506775068],\n",
       "     'FNRs': [0.9878048780487805,\n",
       "      0.9938650306748467,\n",
       "      0.9193548387096774,\n",
       "      1.0,\n",
       "      0.21212121212121213],\n",
       "     'FDRs': [0.9344262295081968,\n",
       "      0.8888888888888888,\n",
       "      0.9019607843137255,\n",
       "      1.0,\n",
       "      0.9565217391304348],\n",
       "     'TPs': [4, 1, 10, 0, 26],\n",
       "     'TNs': [386, 600, 555, 647, 166],\n",
       "     'FPs': [57, 8, 92, 1, 572],\n",
       "     'FNs': [324, 162, 114, 123, 7]},\n",
       "    'res_path': '/worker/outputs/test_project/test_experiment/test_run/evaluate/inference_statistics_evaluate.json'}}],\n",
       " 'apiVersion': '0.0.1',\n",
       " 'success': 1,\n",
       " 'status': 200,\n",
       " 'method': 'validations.post',\n",
       " 'params': {'project_id': 'test_project',\n",
       "  'expt_id': 'test_experiment',\n",
       "  'run_id': 'test_run'}}"
      ]
     },
     "execution_count": 11,
     "metadata": {},
     "output_type": "execute_result"
    }
   ],
   "source": [
    "driver.validations.create(\n",
    "    project_id=\"test_project\",\n",
    "    expt_id=\"test_experiment\",\n",
    "    run_id=\"test_run\"\n",
    ")"
   ]
  },
  {
   "cell_type": "markdown",
   "metadata": {},
   "source": [
    "#### 3B. Perform prediction(s) of combination(s)"
   ]
  },
  {
   "cell_type": "code",
   "execution_count": 12,
   "metadata": {},
   "outputs": [
    {
     "data": {
      "text/plain": [
       "{'data': [{'doc_id': '1',\n",
       "   'kind': 'Prediction',\n",
       "   'key': {'participant_id': 'test_participant_1',\n",
       "    'project_id': 'test_project',\n",
       "    'expt_id': 'test_experiment',\n",
       "    'run_id': 'test_run'},\n",
       "   'predict': {'statistics': {'accuracy': [0.5058365758754864,\n",
       "      0.7795071335927367,\n",
       "      0.7328145265888456,\n",
       "      0.8391699092088197,\n",
       "      0.2490272373540856],\n",
       "     'roc_auc_score': [0.18136458734790506,\n",
       "      0.4112851146270584,\n",
       "      0.3456897841152715,\n",
       "      0.5531717354210579,\n",
       "      0.5288248337028825],\n",
       "     'pr_auc_score': [0.2769722374256113,\n",
       "      0.17033734181564716,\n",
       "      0.11497254785684327,\n",
       "      0.20903177138896742,\n",
       "      0.04816693871025879],\n",
       "     'f_score': [0.020565552699228794,\n",
       "      0.011627906976744186,\n",
       "      0.08849557522123894,\n",
       "      0.0,\n",
       "      0.08240887480190175],\n",
       "     'TPRs': [0.012195121951219513,\n",
       "      0.006134969325153374,\n",
       "      0.08064516129032258,\n",
       "      0.0,\n",
       "      0.7878787878787878],\n",
       "     'TNRs': [0.871331828442438,\n",
       "      0.9868421052631579,\n",
       "      0.8578052550231839,\n",
       "      0.9984567901234568,\n",
       "      0.22493224932249323],\n",
       "     'PPVs': [0.06557377049180328,\n",
       "      0.1111111111111111,\n",
       "      0.09803921568627451,\n",
       "      0.0,\n",
       "      0.043478260869565216],\n",
       "     'NPVs': [0.543661971830986,\n",
       "      0.7874015748031497,\n",
       "      0.8295964125560538,\n",
       "      0.8402597402597403,\n",
       "      0.9595375722543352],\n",
       "     'FPRs': [0.12866817155756208,\n",
       "      0.013157894736842105,\n",
       "      0.14219474497681608,\n",
       "      0.0015432098765432098,\n",
       "      0.7750677506775068],\n",
       "     'FNRs': [0.9878048780487805,\n",
       "      0.9938650306748467,\n",
       "      0.9193548387096774,\n",
       "      1.0,\n",
       "      0.21212121212121213],\n",
       "     'FDRs': [0.9344262295081968,\n",
       "      0.8888888888888888,\n",
       "      0.9019607843137255,\n",
       "      1.0,\n",
       "      0.9565217391304348],\n",
       "     'TPs': [4, 1, 10, 0, 26],\n",
       "     'TNs': [386, 600, 555, 647, 166],\n",
       "     'FPs': [57, 8, 92, 1, 572],\n",
       "     'FNs': [324, 162, 114, 123, 7]},\n",
       "    'res_path': '/worker/outputs/test_project/test_experiment/test_run/predict/inference_statistics_predict.json'}}],\n",
       " 'apiVersion': '0.0.1',\n",
       " 'success': 1,\n",
       " 'status': 200,\n",
       " 'method': 'predictions.post',\n",
       " 'params': {'project_id': 'test_project',\n",
       "  'expt_id': 'test_experiment',\n",
       "  'run_id': 'test_run',\n",
       "  'participant_id': 'test_participant_1'}}"
      ]
     },
     "execution_count": 12,
     "metadata": {},
     "output_type": "execute_result"
    }
   ],
   "source": [
    "driver.predictions.create(\n",
    "    tags={\"test_project\": [[\"iid_1\"]]},\n",
    "    participant_id=\"test_participant_1\",\n",
    "    project_id=\"test_project\",\n",
    "    expt_id=\"test_experiment\",\n",
    "    run_id=\"test_run\"\n",
    ")"
   ]
  },
  {
   "cell_type": "code",
   "execution_count": null,
   "metadata": {},
   "outputs": [],
   "source": []
  }
 ],
 "metadata": {
  "kernelspec": {
   "display_name": "Python 3",
   "language": "python",
   "name": "python3"
  },
  "language_info": {
   "codemirror_mode": {
    "name": "ipython",
    "version": 3
   },
   "file_extension": ".py",
   "mimetype": "text/x-python",
   "name": "python",
   "nbconvert_exporter": "python",
   "pygments_lexer": "ipython3",
   "version": "3.7.9"
  }
 },
 "nbformat": 4,
 "nbformat_minor": 4
}
