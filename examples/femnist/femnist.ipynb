{
 "cells": [
  {
   "cell_type": "markdown",
   "metadata": {},
   "source": [
    "# Running a Federated Cycle with Synergos\n",
    "\n",
    "This tutorial aims to give you an understanding of how to use the synergos package to run a full federated learning cycle. \n",
    "\n",
    "In a federated learning system, there are many contributory participants, known as Worker nodes, which receive a global model to train on, with their own local dataset. The dataset does not leave the individual Worker nodes at any point, and remains private to the node.\n",
    "\n",
    "The job to synchronize, orchestrate and initiate an federated learning cycle, falls on a Trusted Third Party (TTP). The TTP pushes out the global model architecture and parameters for the individual nodes to train on, calling upon the required data, based on tags, e.g \"training\", which points to relevant data on the individual nodes. At no point does the TTP receive, copy or access the Worker nodes' local datasets.\n",
    "\n",
    "In this tutorial, you will go through the steps required by each participant (TTP and Worker), by simulating each of them locally with docker containers. Specifically, we will simulate a TTP and 2 Workers. \n",
    "\n",
    "At the end of this, we will have:\n",
    "- Connected the participants\n",
    "- Trained the model\n",
    "- Evaluate the model\n",
    "\n",
    "## About the Dataset and Task\n",
    "\n",
    "The dataset used in this notebook is on a small subset femnist images, comprising 3 classes, and all images are 28 x 28 pixels. The dataset can be downloaded from [here](https://drive.google.com/drive/folders/1FIfdQZHv0W7ef1ByC0fQssvSrgPMFaqL?usp=sharing). The task to be carried out will be a multi-class prediction."
   ]
  },
  {
   "cell_type": "markdown",
   "metadata": {},
   "source": [
    "## Initiating the docker containers"
   ]
  },
  {
   "cell_type": "markdown",
   "metadata": {},
   "source": [
    "Before we begin, we have to start the docker containers.\n",
    "\n",
    "Firstly, follow the instructions on [pysyft_ttp readme](https://gitlab.int.aisingapore.org/aims/federatedlearning/pysyft_worker/-/tree/dev) and [pysyft_worker readme](https://gitlab.int.aisingapore.org/aims/federatedlearning/pysyft_ttp/-/tree/plan_integrations) on how to build the required docker images for TTP and Workers.\n",
    "\n",
    "Next, in <u>separate</u> CLI terminals, run the following command:\n",
    "\n",
    "**Note: For Windows users, it is advisable to use powershell or command prompt based interfaces**\n",
    "\n",
    "**Worker 1**\n",
    "\n",
    "```docker run -v <directory femnist/data1>:/worker/data -v <directory femnist/outputs_1>:/worker/outputs --name worker_1 worker:pysyft_demo```\n",
    "\n",
    "**Worker 2**\n",
    "\n",
    "```docker run -v <directory femnist/data2>:/worker/data -v <directory femnist/outputs_2>:/worker/outputs --name worker_2 worker:pysyft_demo```\n",
    "\n",
    "**TTP**\n",
    "\n",
    "```docker run -p 0.0.0.0:5000:5000 -p 5678:5678 -p 8020:8020 -p 8080:8080 -v <directory femnist/mlflow_test>:/ttp/mlflow --name ttp --link worker_1 --link worker_2 ttp:pysyft_demo```\n"
   ]
  },
  {
   "cell_type": "markdown",
   "metadata": {},
   "source": [
    "Once ready, for each terminal, you should see that a Flask app is running on http://0.0.0.0:5000 of the container.\n",
    "\n",
    "You are now ready for the next step."
   ]
  },
  {
   "cell_type": "markdown",
   "metadata": {},
   "source": [
    "## Configuration\n",
    "\n",
    "In a new terminal, run `docker inspect bridge` and find the IPv4Address for each container. Ideally, the containers should have the following addresses:\n",
    "- worker_1 address: 172.17.0.2\n",
    "- worker_2 address: 172.17.0.3\n",
    "- ttp address: 172.17.0.4\n",
    "\n",
    "If not, just note the relevant IP addresses for each docker container.\n",
    "\n",
    "Run the following cells below.\n",
    "\n",
    "**Note: For Windows users, `host` should be Docker Desktop VM's IP. Follow [this](https://stackoverflow.com/questions/58073936/how-to-get-ip-address-of-docker-desktop-vm) on instructions to find IP**"
   ]
  },
  {
   "cell_type": "markdown",
   "metadata": {},
   "source": [
    "## Initializing Synergos driver"
   ]
  },
  {
   "cell_type": "code",
   "execution_count": 1,
   "metadata": {},
   "outputs": [],
   "source": [
    "from synergos import Driver\n",
    "\n",
    "host = \"localhost\"\n",
    "port = 5000\n",
    "\n",
    "driver = Driver(host=host, port=port)"
   ]
  },
  {
   "cell_type": "markdown",
   "metadata": {},
   "source": [
    "## Phase 1: CONNECT - Submitting TTP & Participant metadata #"
   ]
  },
  {
   "cell_type": "markdown",
   "metadata": {},
   "source": [
    "#### 1A. TTP controller creates a project\n",
    "\n",
    "Create a project which is a classification task with action=\"classify\", if the project is a regression task thenn action=\"regression\"."
   ]
  },
  {
   "cell_type": "code",
   "execution_count": 2,
   "metadata": {},
   "outputs": [
    {
     "data": {
      "text/plain": [
       "{'data': {'doc_id': '1',\n",
       "  'kind': 'Project',\n",
       "  'key': {'project_id': 'test_project'},\n",
       "  'relations': {'Experiment': [{'doc_id': '1',\n",
       "     'kind': 'Experiment',\n",
       "     'key': {'project_id': 'test_project', 'expt_id': 'test_experiment'},\n",
       "     'model': [{'is_input': True,\n",
       "       'structure': {'in_channels': 1,\n",
       "        'kernel_size': 3,\n",
       "        'out_channels': 4,\n",
       "        'padding': 1,\n",
       "        'stride': 1},\n",
       "       'l_type': 'Conv2d',\n",
       "       'activation': 'relu'},\n",
       "      {'is_input': False, 'l_type': 'Flatten'},\n",
       "      {'is_input': False,\n",
       "       'structure': {'bias': True, 'in_features': 3136, 'out_features': 1},\n",
       "       'l_type': 'Linear',\n",
       "       'activation': 'softmax'}]}],\n",
       "   'Run': [{'doc_id': '1',\n",
       "     'kind': 'Run',\n",
       "     'key': {'project_id': 'test_project',\n",
       "      'expt_id': 'test_experiment',\n",
       "      'run_id': 'test_run'},\n",
       "     'rounds': 2,\n",
       "     'epochs': 1,\n",
       "     'lr': 0.001,\n",
       "     'lr_decay': 0.1,\n",
       "     'weight_decay': 0.0,\n",
       "     'seed': 42,\n",
       "     'precision_fractional': 5,\n",
       "     'mu': 0.1,\n",
       "     'l1_lambda': 0.0,\n",
       "     'l2_lambda': 0.0,\n",
       "     'base_lr': 0.0005,\n",
       "     'max_lr': 0.005,\n",
       "     'patience': 10,\n",
       "     'delta': 0.0}],\n",
       "   'Registration': [{'doc_id': '1',\n",
       "     'kind': 'Registration',\n",
       "     'key': {'project_id': 'test_project',\n",
       "      'participant_id': 'test_participant_1'},\n",
       "     'role': 'guest'},\n",
       "    {'doc_id': '2',\n",
       "     'kind': 'Registration',\n",
       "     'key': {'project_id': 'test_project',\n",
       "      'participant_id': 'test_participant_2'},\n",
       "     'role': 'host'}],\n",
       "   'Tag': [{'doc_id': '1',\n",
       "     'kind': 'Tag',\n",
       "     'key': {'project_id': 'test_project',\n",
       "      'participant_id': 'test_participant_1'},\n",
       "     'train': [['train']],\n",
       "     'evaluate': [['evaluate']],\n",
       "     'predict': []},\n",
       "    {'doc_id': '2',\n",
       "     'kind': 'Tag',\n",
       "     'key': {'project_id': 'test_project',\n",
       "      'participant_id': 'test_participant_2'},\n",
       "     'train': [['train']],\n",
       "     'evaluate': [],\n",
       "     'predict': []}],\n",
       "   'Model': [],\n",
       "   'Validation': [],\n",
       "   'Prediction': []},\n",
       "  'action': 'classify',\n",
       "  'incentives': {'tier_2': [], 'tier_1': []}},\n",
       " 'apiVersion': '0.0.1',\n",
       " 'success': 1,\n",
       " 'status': 201,\n",
       " 'method': 'projects.post',\n",
       " 'params': {}}"
      ]
     },
     "execution_count": 2,
     "metadata": {},
     "output_type": "execute_result"
    }
   ],
   "source": [
    "# 1A. TTP controller creates a project\n",
    "driver.projects.create(\n",
    "    project_id=\"test_project\",\n",
    "    action=\"classify\",\n",
    "    incentives={\n",
    "        'tier_1': [],\n",
    "        'tier_2': []\n",
    "    }\n",
    ")"
   ]
  },
  {
   "cell_type": "markdown",
   "metadata": {},
   "source": [
    "#### 1B. TTP controller creates an experiment"
   ]
  },
  {
   "cell_type": "code",
   "execution_count": 3,
   "metadata": {},
   "outputs": [
    {
     "data": {
      "text/plain": [
       "{'apiVersion': '0.0.1',\n",
       " 'success': 1,\n",
       " 'status': 201,\n",
       " 'method': 'experiments.post',\n",
       " 'params': {'project_id': 'test_project'},\n",
       " 'data': {'created_at': '2020-09-23 11:15:04 N',\n",
       "  'key': {'expt_id': 'test_experiment', 'project_id': 'test_project'},\n",
       "  'model': [{'activation': 'relu',\n",
       "    'is_input': True,\n",
       "    'l_type': 'Conv2d',\n",
       "    'structure': {'in_channels': 1,\n",
       "     'kernel_size': 3,\n",
       "     'out_channels': 4,\n",
       "     'padding': 1,\n",
       "     'stride': 1}},\n",
       "   {'activation': None,\n",
       "    'is_input': False,\n",
       "    'l_type': 'Flatten',\n",
       "    'structure': {}},\n",
       "   {'activation': 'softmax',\n",
       "    'is_input': False,\n",
       "    'l_type': 'Linear',\n",
       "    'structure': {'bias': True, 'in_features': 3136, 'out_features': 1}}],\n",
       "  'relations': {'Run': [{'algorithm': 'FedProx',\n",
       "     'base_lr': 0.0005,\n",
       "     'created_at': '2020-09-23 11:06:28 N',\n",
       "     'criterion': 'NLLLoss',\n",
       "     'delta': 0.0,\n",
       "     'epochs': 1,\n",
       "     'is_snn': False,\n",
       "     'key': {'expt_id': 'test_experiment',\n",
       "      'project_id': 'test_project',\n",
       "      'run_id': 'test_run'},\n",
       "     'l1_lambda': 0.0,\n",
       "     'l2_lambda': 0.0,\n",
       "     'lr': 0.001,\n",
       "     'lr_decay': 0.1,\n",
       "     'lr_scheduler': 'CyclicLR',\n",
       "     'max_lr': 0.005,\n",
       "     'mu': 0.1,\n",
       "     'optimizer': 'SGD',\n",
       "     'patience': 10,\n",
       "     'precision_fractional': 5,\n",
       "     'rounds': 2,\n",
       "     'seed': 42,\n",
       "     'weight_decay': 0.0,\n",
       "     'doc_id': 1,\n",
       "     'kind': 'Run'}],\n",
       "   'Model': [],\n",
       "   'Validation': [],\n",
       "   'Prediction': []},\n",
       "  'doc_id': 1,\n",
       "  'kind': 'Experiment'}}"
      ]
     },
     "execution_count": 3,
     "metadata": {},
     "output_type": "execute_result"
    }
   ],
   "source": [
    "# 1B. TTP controller creates an experiment\n",
    "driver.experiments.create(\n",
    "    project_id=\"test_project\",\n",
    "    expt_id=\"test_experiment\",\n",
    "    model=[\n",
    "        {\n",
    "            \"activation\": \"relu\",\n",
    "            \"is_input\": True,\n",
    "            \"l_type\": \"Conv2d\",\n",
    "            \"structure\": {\n",
    "                \"in_channels\": 1, \n",
    "                \"out_channels\": 4, # [N, 4, 28, 28]\n",
    "                \"kernel_size\": 3,\n",
    "                \"stride\": 1,\n",
    "                \"padding\": 1\n",
    "            }\n",
    "        },\n",
    "        {\n",
    "            \"activation\": None,\n",
    "            \"is_input\": False,\n",
    "            \"l_type\": \"Flatten\",\n",
    "            \"structure\": {}\n",
    "        },\n",
    "        # ------------------------------\n",
    "        {\n",
    "            \"activation\": \"softmax\",\n",
    "            \"is_input\": False,\n",
    "            \"l_type\": \"Linear\",\n",
    "            \"structure\": {\n",
    "                \"bias\": True,\n",
    "                \"in_features\": 4 * 28 * 28,\n",
    "                \"out_features\": 1\n",
    "            }\n",
    "        }\n",
    "\n",
    "    ]\n",
    ")"
   ]
  },
  {
   "cell_type": "markdown",
   "metadata": {},
   "source": [
    "#### 1C. TTP controller creates a run"
   ]
  },
  {
   "cell_type": "code",
   "execution_count": 4,
   "metadata": {},
   "outputs": [
    {
     "data": {
      "text/plain": [
       "{'data': {'doc_id': '1',\n",
       "  'kind': 'Run',\n",
       "  'key': {'project_id': 'test_project',\n",
       "   'expt_id': 'test_experiment',\n",
       "   'run_id': 'test_run'},\n",
       "  'relations': {'Model': [], 'Validation': [], 'Prediction': []},\n",
       "  'rounds': 2,\n",
       "  'epochs': 1,\n",
       "  'lr': 0.001,\n",
       "  'lr_decay': 0.1,\n",
       "  'weight_decay': 0.0,\n",
       "  'seed': 42,\n",
       "  'precision_fractional': 5,\n",
       "  'mu': 0.1,\n",
       "  'l1_lambda': 0.0,\n",
       "  'l2_lambda': 0.0,\n",
       "  'base_lr': 0.0005,\n",
       "  'max_lr': 0.005,\n",
       "  'patience': 10,\n",
       "  'delta': 0.0},\n",
       " 'apiVersion': '0.0.1',\n",
       " 'success': 1,\n",
       " 'status': 201,\n",
       " 'method': 'runs.post',\n",
       " 'params': {'project_id': 'test_project', 'expt_id': 'test_experiment'}}"
      ]
     },
     "execution_count": 4,
     "metadata": {},
     "output_type": "execute_result"
    }
   ],
   "source": [
    "driver.runs.create(\n",
    "    project_id=\"test_project\",\n",
    "    expt_id=\"test_experiment\",\n",
    "    run_id=\"test_run\",\n",
    "    rounds=2, \n",
    "    epochs=1,\n",
    "    base_lr=0.0005,\n",
    "    max_lr=0.005,\n",
    "    criterion=\"NLLLoss\"\n",
    ")"
   ]
  },
  {
   "cell_type": "markdown",
   "metadata": {},
   "source": [
    "#### 1D. Participants registers their servers' configurations"
   ]
  },
  {
   "cell_type": "code",
   "execution_count": 5,
   "metadata": {},
   "outputs": [
    {
     "data": {
      "text/plain": [
       "{'data': {'doc_id': '2',\n",
       "  'kind': 'Participant',\n",
       "  'key': {'participant_id': 'test_participant_2'},\n",
       "  'relations': {'Registration': [{'doc_id': '2',\n",
       "     'kind': 'Registration',\n",
       "     'key': {'project_id': 'test_project',\n",
       "      'participant_id': 'test_participant_2'},\n",
       "     'role': 'host'}],\n",
       "   'Tag': [{'doc_id': '2',\n",
       "     'kind': 'Tag',\n",
       "     'key': {'project_id': 'test_project',\n",
       "      'participant_id': 'test_participant_2'},\n",
       "     'train': [['train']],\n",
       "     'evaluate': [],\n",
       "     'predict': []}]},\n",
       "  'id': 'test_participant_2',\n",
       "  'host': '172.17.0.3',\n",
       "  'port': 8020,\n",
       "  'log_msgs': True,\n",
       "  'verbose': True,\n",
       "  'f_port': 5000},\n",
       " 'apiVersion': '0.0.1',\n",
       " 'success': 1,\n",
       " 'status': 201,\n",
       " 'method': 'participants.post',\n",
       " 'params': {}}"
      ]
     },
     "execution_count": 5,
     "metadata": {},
     "output_type": "execute_result"
    }
   ],
   "source": [
    "driver.participants.create(\n",
    "    participant_id=\"test_participant_1\",\n",
    "    host='172.17.0.2',\n",
    "    port=8020,\n",
    "    f_port=5000,\n",
    "    log_msgs=True,\n",
    "    verbose=True\n",
    ")\n",
    "\n",
    "driver.participants.create(\n",
    "    participant_id=\"test_participant_2\",\n",
    "    host='172.17.0.3',\n",
    "    port=8020,\n",
    "    f_port=5000,\n",
    "    log_msgs=True,\n",
    "    verbose=True\n",
    ")"
   ]
  },
  {
   "cell_type": "markdown",
   "metadata": {},
   "source": [
    "#### 1E. Participants registers their role in a specific project"
   ]
  },
  {
   "cell_type": "code",
   "execution_count": 6,
   "metadata": {},
   "outputs": [
    {
     "data": {
      "text/plain": [
       "{'data': {'doc_id': '2',\n",
       "  'kind': 'Registration',\n",
       "  'key': {'project_id': 'test_project',\n",
       "   'participant_id': 'test_participant_2'},\n",
       "  'relations': {'Tag': []},\n",
       "  'project': {'incentives': {'tier_2': [], 'tier_1': []}, 'start_at': None},\n",
       "  'participant': {'id': 'test_participant_2',\n",
       "   'host': '172.17.0.3',\n",
       "   'port': 8020,\n",
       "   'f_port': 5000,\n",
       "   'log_msgs': True,\n",
       "   'verbose': True},\n",
       "  'role': 'host'},\n",
       " 'apiVersion': '0.0.1',\n",
       " 'success': 1,\n",
       " 'status': 201,\n",
       " 'method': 'registration.post',\n",
       " 'params': {}}"
      ]
     },
     "execution_count": 6,
     "metadata": {},
     "output_type": "execute_result"
    }
   ],
   "source": [
    "driver.registrations.create(\n",
    "    project_id=\"test_project\",\n",
    "    participant_id=\"test_participant_1\",\n",
    "    role=\"guest\"\n",
    ")\n",
    "\n",
    "driver.registrations.create(\n",
    "    project_id=\"test_project\",\n",
    "    participant_id=\"test_participant_2\",\n",
    "    role=\"host\"\n",
    ")"
   ]
  },
  {
   "cell_type": "markdown",
   "metadata": {},
   "source": [
    "#### 1F. Participants registers their tags for a specific project"
   ]
  },
  {
   "cell_type": "code",
   "execution_count": 7,
   "metadata": {},
   "outputs": [
    {
     "data": {
      "text/plain": [
       "{'data': {'doc_id': '2',\n",
       "  'kind': 'Tag',\n",
       "  'key': {'project_id': 'test_project',\n",
       "   'participant_id': 'test_participant_2'},\n",
       "  'train': [['train']],\n",
       "  'evaluate': [],\n",
       "  'predict': []},\n",
       " 'apiVersion': '0.0.1',\n",
       " 'success': 1,\n",
       " 'status': 201,\n",
       " 'method': 'tags.post',\n",
       " 'params': {'project_id': 'test_project',\n",
       "  'participant_id': 'test_participant_2'}}"
      ]
     },
     "execution_count": 7,
     "metadata": {},
     "output_type": "execute_result"
    }
   ],
   "source": [
    "driver.tags.create(\n",
    "    project_id=\"test_project\",\n",
    "    participant_id=\"test_participant_1\",\n",
    "    train=[\n",
    "        [\"train\"]\n",
    "    ],\n",
    "    evaluate = [[\"evaluate\"]]\n",
    ")\n",
    "\n",
    "driver.tags.create(\n",
    "    project_id=\"test_project\",\n",
    "    participant_id=\"test_participant_2\",\n",
    "    train=[[\"train\"]]\n",
    ")"
   ]
  },
  {
   "cell_type": "markdown",
   "metadata": {},
   "source": [
    "## Phase 2: TRAIN - Alignment, Training & Optimisation"
   ]
  },
  {
   "cell_type": "markdown",
   "metadata": {},
   "source": [
    "#### 2A. Perform multiple feature alignment to dynamically configure datasets and models for cross-grid compatibility"
   ]
  },
  {
   "cell_type": "code",
   "execution_count": 8,
   "metadata": {},
   "outputs": [
    {
     "data": {
      "text/plain": [
       "{'apiVersion': '0.0.1',\n",
       " 'success': 1,\n",
       " 'status': 201,\n",
       " 'method': 'alignments.post',\n",
       " 'params': {'project_id': 'test_project'},\n",
       " 'data': [{'created_at': '2020-09-23 11:16:28 N',\n",
       "   'key': {'participant_id': 'test_participant_2',\n",
       "    'project_id': 'test_project'},\n",
       "   'link': {'alignment_id': '39dd610afd8e11eaadfd0242ac110004',\n",
       "    'registration_id': '08c238f2fd8e11ea8b4b0242ac110004',\n",
       "    'tag_id': '09170a3afd8e11eab1a10242ac110004'},\n",
       "   'train': {'X': [], 'y': []},\n",
       "   'relations': {},\n",
       "   'doc_id': 1,\n",
       "   'kind': 'Alignment'},\n",
       "  {'created_at': '2020-09-23 11:16:28 N',\n",
       "   'evaluate': {'X': [], 'y': []},\n",
       "   'key': {'participant_id': 'test_participant_1',\n",
       "    'project_id': 'test_project'},\n",
       "   'link': {'alignment_id': '39e1b8ccfd8e11eaadfd0242ac110004',\n",
       "    'registration_id': '08b915d8fd8e11eab2620242ac110004',\n",
       "    'tag_id': '090f993afd8e11ea94c20242ac110004'},\n",
       "   'train': {'X': [], 'y': []},\n",
       "   'relations': {},\n",
       "   'doc_id': 2,\n",
       "   'kind': 'Alignment'}]}"
      ]
     },
     "execution_count": 8,
     "metadata": {},
     "output_type": "execute_result"
    }
   ],
   "source": [
    "driver.alignments.create(project_id=\"test_project\")"
   ]
  },
  {
   "cell_type": "markdown",
   "metadata": {},
   "source": [
    "#### 2B. Trigger training across the federated grid"
   ]
  },
  {
   "cell_type": "code",
   "execution_count": 9,
   "metadata": {},
   "outputs": [],
   "source": [
    "model_resp = driver.models.create(\n",
    "        project_id=\"test_project\",\n",
    "        expt_id=\"test_experiment\",\n",
    "        run_id=\"test_run\")"
   ]
  },
  {
   "cell_type": "markdown",
   "metadata": {},
   "source": [
    "## Phase 3: EVALUATE - Validation & Predictions"
   ]
  },
  {
   "cell_type": "markdown",
   "metadata": {},
   "source": [
    "#### 3A. Perform validation(s) of combination(s)"
   ]
  },
  {
   "cell_type": "code",
   "execution_count": 11,
   "metadata": {},
   "outputs": [
    {
     "data": {
      "text/plain": [
       "{'data': [{'doc_id': '1',\n",
       "   'kind': 'Validation',\n",
       "   'key': {'participant_id': 'test_participant_1',\n",
       "    'project_id': 'test_project',\n",
       "    'expt_id': 'test_experiment',\n",
       "    'run_id': 'test_run'},\n",
       "   'evaluate': {'statistics': {'accuracy': [0.6629213483146067],\n",
       "     'roc_auc_score': [0.5],\n",
       "     'pr_auc_score': [0.6685393258426966],\n",
       "     'f_score': [0.0],\n",
       "     'TPRs': [0.0, 1.0, 0.0],\n",
       "     'TNRs': [1.0, 0.0, 1.0],\n",
       "     'PPVs': [0.0, 0.3258426966292135, 0.0],\n",
       "     'NPVs': [0.6629213483146067, 0.0, 0.6629213483146067],\n",
       "     'FPRs': [0.0, 1.0, 0.0],\n",
       "     'FNRs': [1.0, 0.0, 1.0],\n",
       "     'FDRs': [0.0, 0.6741573033707865, 0.0],\n",
       "     'TPs': [0, 29, 0],\n",
       "     'TNs': [59, 0, 59],\n",
       "     'FPs': [0, 60, 0],\n",
       "     'FNs': [30, 0, 30]},\n",
       "    'res_path': '/worker/outputs/test_project/test_experiment/test_run/evaluate/inference_statistics_evaluate.json'}}],\n",
       " 'apiVersion': '0.0.1',\n",
       " 'success': 1,\n",
       " 'status': 200,\n",
       " 'method': 'validations.post',\n",
       " 'params': {'project_id': 'test_project',\n",
       "  'expt_id': 'test_experiment',\n",
       "  'run_id': 'test_run'}}"
      ]
     },
     "execution_count": 11,
     "metadata": {},
     "output_type": "execute_result"
    }
   ],
   "source": [
    "driver.validations.create(\n",
    "    project_id=\"test_project\",\n",
    "    expt_id=\"test_experiment\",\n",
    "    run_id=\"test_run\"\n",
    ")"
   ]
  },
  {
   "cell_type": "markdown",
   "metadata": {},
   "source": [
    "#### 3B. Perform prediction(s) of combination(s)"
   ]
  },
  {
   "cell_type": "code",
   "execution_count": 12,
   "metadata": {},
   "outputs": [
    {
     "data": {
      "text/plain": [
       "{'data': [{'doc_id': '1',\n",
       "   'kind': 'Prediction',\n",
       "   'key': {'participant_id': 'test_participant_1',\n",
       "    'project_id': 'test_project',\n",
       "    'expt_id': 'test_experiment',\n",
       "    'run_id': 'test_run'},\n",
       "   'predict': {'statistics': {'accuracy': [0.29931972789115646],\n",
       "     'roc_auc_score': [0.5],\n",
       "     'pr_auc_score': [0.8503401360544218],\n",
       "     'f_score': [0.0],\n",
       "     'TPRs': [0.0, 1.0, 0.0],\n",
       "     'TNRs': [1.0, 0.0, 1.0],\n",
       "     'PPVs': [0.0, 0.2108843537414966, 0.0],\n",
       "     'NPVs': [0.29931972789115646, 0.0, 0.9115646258503401],\n",
       "     'FPRs': [0.0, 1.0, 0.0],\n",
       "     'FNRs': [1.0, 0.0, 1.0],\n",
       "     'FDRs': [0.0, 0.7891156462585034, 0.0],\n",
       "     'TPs': [0, 62, 0],\n",
       "     'TNs': [88, 0, 268],\n",
       "     'FPs': [0, 232, 0],\n",
       "     'FNs': [206, 0, 26]},\n",
       "    'res_path': '/worker/outputs/test_project/test_experiment/test_run/predict/inference_statistics_predict.json'}}],\n",
       " 'apiVersion': '0.0.1',\n",
       " 'success': 1,\n",
       " 'status': 200,\n",
       " 'method': 'predictions.post',\n",
       " 'params': {'project_id': 'test_project',\n",
       "  'expt_id': 'test_experiment',\n",
       "  'run_id': 'test_run',\n",
       "  'participant_id': 'test_participant_1'}}"
      ]
     },
     "execution_count": 12,
     "metadata": {},
     "output_type": "execute_result"
    }
   ],
   "source": [
    "driver.predictions.create(\n",
    "    tags={\"test_project\": [[\"predict\"]]},\n",
    "    participant_id=\"test_participant_1\",\n",
    "    project_id=\"test_project\",\n",
    "    expt_id=\"test_experiment\",\n",
    "    run_id=\"test_run\"\n",
    ")"
   ]
  }
 ],
 "metadata": {
  "kernelspec": {
   "display_name": "Python 3",
   "language": "python",
   "name": "python3"
  },
  "language_info": {
   "codemirror_mode": {
    "name": "ipython",
    "version": 3
   },
   "file_extension": ".py",
   "mimetype": "text/x-python",
   "name": "python",
   "nbconvert_exporter": "python",
   "pygments_lexer": "ipython3",
   "version": "3.7.9"
  }
 },
 "nbformat": 4,
 "nbformat_minor": 4
}
