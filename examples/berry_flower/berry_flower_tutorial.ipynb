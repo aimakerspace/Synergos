{
 "cells": [
  {
   "cell_type": "markdown",
   "metadata": {},
   "source": [
    "<font color=\"red\"> WIP. More in-depth elaboration starting from Phase 1: Connect required</font>"
   ]
  },
  {
   "cell_type": "markdown",
   "metadata": {},
   "source": [
    "# Running a Federated Cycle with Synergos\n",
    "\n",
    "This tutorial aims to give you an understanding of how to use the synergos package to run a full federated learning cycle. \n",
    "\n",
    "In a federated learning system, there are many contributory participants, known as Worker nodes, which receive a global model to train on, with their own local dataset. The dataset does not leave the individual Worker nodes at any point, and remains private to the node.\n",
    "\n",
    "The job to synchronize, orchestrate and initiate an federated learning cycle, falls on a Trusted Third Party (TTP). The TTP pushes out the global model architecture and parameters for the individual nodes to train on, calling upon the required data, based on tags, e.g \"training\", which points to relevant data on the individual nodes. At no point does the TTP receive, copy or access the Worker nodes' local datasets.\n",
    "\n",
    "In this tutorial, you will go through the steps required by each participant (TTP and Worker), by simulating each of them locally with docker containers. Specifically, we will simulate a TTP and 2 Workers. \n",
    "\n",
    "At the end of this, we will have:\n",
    "- Connected the participants\n",
    "- Trained the model\n",
    "- Evaluate the model"
   ]
  },
  {
   "cell_type": "markdown",
   "metadata": {},
   "source": [
    "## Initiating the docker containers"
   ]
  },
  {
   "cell_type": "markdown",
   "metadata": {},
   "source": [
    "Before we begin, we have to start the docker containers.\n",
    "\n",
    "Firstly, follow the instructions on __\\<path to pysyft_ttp readme\\>__ and __\\<path to pysyft_worker readme\\>__ on how to build the required docker images for TTP and Workers.\n",
    "\n",
    "Next, in <u>separate</u> CLI terminals, run the following command:\n",
    "\n",
    "**Note: For Windows users, it is advisable to use powershell or command prompt based interfaces**\n",
    "\n",
    "**Worker 1**\n",
    "\n",
    "```docker run -v <directory heart_disease/data1>:/worker/data -v <directory heart_disease/outputs_1>:/worker/outputs --name worker_1 worker:pysyft_demo```\n",
    "\n",
    "**Worker 2**\n",
    "\n",
    "```docker run -v <directory heart_disease/data2>:/worker/data -v <directory heart_disease/outputs_2>:/worker/outputs --name worker_2 worker:pysyft_demo```\n",
    "\n",
    "**TTP**\n",
    "\n",
    "```docker run -p 0.0.0.0:5000:5000 -p 5678:5678 -p 8020:8020 -p 8080:8080 -v <directory /heart_disease/mlflow_test>:/ttp/mlflow --name ttp --link worker_1 --link worker_2 ttp:pysyft_demo```\n"
   ]
  },
  {
   "cell_type": "markdown",
   "metadata": {},
   "source": [
    "Once ready, for each terminal, you should see that a Flask app is running on http://0.0.0.0:5000 of the container.\n",
    "\n",
    "You are now ready for the next step."
   ]
  },
  {
   "cell_type": "markdown",
   "metadata": {},
   "source": [
    "## Configuration\n",
    "\n",
    "In a new terminal, run `docker inspect bridge` and find the IPv4Address for each container. Ideally, the containers should have the following addresses:\n",
    "- worker_1 address: 172.17.0.2\n",
    "- worker_2 address: 172.17.0.3\n",
    "- ttp address: 172.17.0.4\n",
    "\n",
    "<font color=\"red\">Not sure if need to run configure.py</font>\n",
    "\n",
    "Run the following cells below.\n",
    "\n",
    "**Note: For Windows users, `host` should be Docker Desktop VM's IP. Follow [this](https://stackoverflow.com/questions/58073936/how-to-get-ip-address-of-docker-desktop-vm) on instructions to find IP**"
   ]
  },
  {
   "cell_type": "code",
   "execution_count": 2,
   "metadata": {},
   "outputs": [],
   "source": [
    "from synergos import Driver\n",
    "\n",
    "host = \"localhost\" # Different for Windows users\n",
    "port = 5000\n",
    "\n",
    "# Initiate Driver\n",
    "driver = Driver(host=host, port=port)"
   ]
  },
  {
   "cell_type": "markdown",
   "metadata": {},
   "source": [
    "## Phase 1: Connect\n",
    "\n",
    "Submitting TTP & Participant metadata"
   ]
  },
  {
   "cell_type": "markdown",
   "metadata": {},
   "source": [
    "#### 1A. TTP controller creates a project"
   ]
  },
  {
   "cell_type": "code",
   "execution_count": 3,
   "metadata": {},
   "outputs": [
    {
     "data": {
      "text/plain": [
       "{'data': {'doc_id': '1',\n",
       "  'kind': 'Project',\n",
       "  'key': {'project_id': 'test_project'},\n",
       "  'relations': {'Experiment': [],\n",
       "   'Run': [],\n",
       "   'Registration': [],\n",
       "   'Tag': [],\n",
       "   'Model': [],\n",
       "   'Validation': [],\n",
       "   'Prediction': []},\n",
       "  'action': 'classify',\n",
       "  'incentives': {'tier_3': [], 'tier_2': [], 'tier_1': []}},\n",
       " 'apiVersion': '0.0.1',\n",
       " 'success': 1,\n",
       " 'status': 201,\n",
       " 'method': 'projects.post',\n",
       " 'params': {}}"
      ]
     },
     "execution_count": 3,
     "metadata": {},
     "output_type": "execute_result"
    }
   ],
   "source": [
    "driver.projects.create(\n",
    "    project_id=\"test_project\",\n",
    "    action=\"classify\",\n",
    "    incentives={\n",
    "        'tier_1': [],\n",
    "        'tier_2': [],\n",
    "        'tier_3': []\n",
    "    }\n",
    ")"
   ]
  },
  {
   "cell_type": "markdown",
   "metadata": {},
   "source": [
    "#### 1B. TTP controller creates an experiment"
   ]
  },
  {
   "cell_type": "code",
   "execution_count": 4,
   "metadata": {},
   "outputs": [
    {
     "data": {
      "text/plain": [
       "{'apiVersion': '0.0.1',\n",
       " 'success': 1,\n",
       " 'status': 201,\n",
       " 'method': 'experiments.post',\n",
       " 'params': {'project_id': 'test_project'},\n",
       " 'data': {'created_at': '2020-09-25 08:55:21 N',\n",
       "  'key': {'expt_id': 'test_experiment', 'project_id': 'test_project'},\n",
       "  'model': [{'activation': 'relu',\n",
       "    'is_input': True,\n",
       "    'l_type': 'Conv2d',\n",
       "    'structure': {'in_channels': 1,\n",
       "     'kernel_size': 3,\n",
       "     'out_channels': 4,\n",
       "     'padding': 1,\n",
       "     'stride': 1}},\n",
       "   {'activation': None,\n",
       "    'is_input': False,\n",
       "    'l_type': 'Flatten',\n",
       "    'structure': {}},\n",
       "   {'activation': 'sigmoid',\n",
       "    'is_input': False,\n",
       "    'l_type': 'Linear',\n",
       "    'structure': {'bias': True, 'in_features': 4096, 'out_features': 1}}],\n",
       "  'relations': {'Run': [], 'Model': [], 'Validation': [], 'Prediction': []},\n",
       "  'doc_id': 1,\n",
       "  'kind': 'Experiment'}}"
      ]
     },
     "execution_count": 4,
     "metadata": {},
     "output_type": "execute_result"
    }
   ],
   "source": [
    "driver.experiments.create(\n",
    "    project_id=\"test_project\",\n",
    "    expt_id=\"test_experiment\",\n",
    "    model = [\n",
    "        # Input: N, C, Height, Width [N, 1, 28, 28]\n",
    "        {\n",
    "            \"activation\": \"relu\",\n",
    "            \"is_input\": True,\n",
    "            \"l_type\": \"Conv2d\",\n",
    "            \"structure\": {\n",
    "                \"in_channels\": 1, \n",
    "                \"out_channels\": 4, # [N, 4, 32, 32]\n",
    "                \"kernel_size\": 3,\n",
    "                \"stride\": 1,\n",
    "                \"padding\": 1\n",
    "            }\n",
    "        },\n",
    "        {\n",
    "            \"activation\": None,\n",
    "            \"is_input\": False,\n",
    "            \"l_type\": \"Flatten\",\n",
    "            \"structure\": {}\n",
    "        },\n",
    "        # ------------------------------\n",
    "        {\n",
    "            \"activation\": \"sigmoid\",\n",
    "            \"is_input\": False,\n",
    "            \"l_type\": \"Linear\",\n",
    "            \"structure\": {\n",
    "                \"bias\": True,\n",
    "                \"in_features\": 4 * 32 * 32,\n",
    "                \"out_features\": 1\n",
    "            }\n",
    "        }\n",
    "    ]\n",
    ")"
   ]
  },
  {
   "cell_type": "markdown",
   "metadata": {},
   "source": [
    "#### 1C. TTP controller creates a run"
   ]
  },
  {
   "cell_type": "code",
   "execution_count": 5,
   "metadata": {},
   "outputs": [
    {
     "data": {
      "text/plain": [
       "{'data': {'doc_id': '1',\n",
       "  'kind': 'Run',\n",
       "  'key': {'project_id': 'test_project',\n",
       "   'expt_id': 'test_experiment',\n",
       "   'run_id': 'test_run'},\n",
       "  'relations': {'Model': [], 'Validation': [], 'Prediction': []},\n",
       "  'rounds': 2,\n",
       "  'epochs': 1,\n",
       "  'lr': 0.001,\n",
       "  'lr_decay': 0.1,\n",
       "  'weight_decay': 0.0,\n",
       "  'seed': 42,\n",
       "  'precision_fractional': 5,\n",
       "  'mu': 0.1,\n",
       "  'l1_lambda': 0.0,\n",
       "  'l2_lambda': 0.0,\n",
       "  'base_lr': 0.0005,\n",
       "  'max_lr': 0.005,\n",
       "  'patience': 10,\n",
       "  'delta': 0.0},\n",
       " 'apiVersion': '0.0.1',\n",
       " 'success': 1,\n",
       " 'status': 201,\n",
       " 'method': 'runs.post',\n",
       " 'params': {'project_id': 'test_project', 'expt_id': 'test_experiment'}}"
      ]
     },
     "execution_count": 5,
     "metadata": {},
     "output_type": "execute_result"
    }
   ],
   "source": [
    "driver.runs.create(\n",
    "    project_id=\"test_project\",\n",
    "    expt_id=\"test_experiment\",\n",
    "    run_id=\"test_run\",\n",
    "    rounds=2, \n",
    "    epochs=1,\n",
    "    base_lr=0.0005,\n",
    "    max_lr=0.005,\n",
    "    criterion=\"NLLLoss\"\n",
    ")"
   ]
  },
  {
   "cell_type": "markdown",
   "metadata": {},
   "source": [
    "#### 1D. Participants registers their servers' configurations"
   ]
  },
  {
   "cell_type": "code",
   "execution_count": 6,
   "metadata": {},
   "outputs": [
    {
     "data": {
      "text/plain": [
       "{'data': {'doc_id': '2',\n",
       "  'kind': 'Participant',\n",
       "  'key': {'participant_id': 'test_participant_2'},\n",
       "  'relations': {'Registration': [], 'Tag': []},\n",
       "  'id': 'test_participant_2',\n",
       "  'host': '172.17.0.3',\n",
       "  'port': 8020,\n",
       "  'log_msgs': True,\n",
       "  'verbose': True,\n",
       "  'f_port': 5000},\n",
       " 'apiVersion': '0.0.1',\n",
       " 'success': 1,\n",
       " 'status': 201,\n",
       " 'method': 'participants.post',\n",
       " 'params': {}}"
      ]
     },
     "execution_count": 6,
     "metadata": {},
     "output_type": "execute_result"
    }
   ],
   "source": [
    "driver.participants.create(\n",
    "    participant_id=\"test_participant_1\",\n",
    "    host='172.17.0.2',\n",
    "    port=8020,\n",
    "    f_port=5000,\n",
    "    log_msgs=True,\n",
    "    verbose=True\n",
    ")\n",
    "\n",
    "driver.participants.create(\n",
    "    participant_id=\"test_participant_2\",\n",
    "    host='172.17.0.3',\n",
    "    port=8020,\n",
    "    f_port=5000,\n",
    "    log_msgs=True,\n",
    "    verbose=True\n",
    ")"
   ]
  },
  {
   "cell_type": "markdown",
   "metadata": {},
   "source": [
    "#### 1E. Participants registers their role in a specific project"
   ]
  },
  {
   "cell_type": "code",
   "execution_count": 7,
   "metadata": {},
   "outputs": [
    {
     "data": {
      "text/plain": [
       "{'data': {'doc_id': '2',\n",
       "  'kind': 'Registration',\n",
       "  'key': {'project_id': 'test_project',\n",
       "   'participant_id': 'test_participant_2'},\n",
       "  'relations': {'Tag': []},\n",
       "  'project': {'incentives': {'tier_3': [], 'tier_2': [], 'tier_1': []},\n",
       "   'start_at': None},\n",
       "  'participant': {'id': 'test_participant_2',\n",
       "   'host': '172.17.0.3',\n",
       "   'port': 8020,\n",
       "   'f_port': 5000,\n",
       "   'log_msgs': True,\n",
       "   'verbose': True},\n",
       "  'role': 'host'},\n",
       " 'apiVersion': '0.0.1',\n",
       " 'success': 1,\n",
       " 'status': 201,\n",
       " 'method': 'registration.post',\n",
       " 'params': {}}"
      ]
     },
     "execution_count": 7,
     "metadata": {},
     "output_type": "execute_result"
    }
   ],
   "source": [
    "driver.registrations.create(\n",
    "    project_id=\"test_project\",\n",
    "    participant_id=\"test_participant_1\",\n",
    "    role=\"guest\"\n",
    ")\n",
    "\n",
    "driver.registrations.create(\n",
    "    project_id=\"test_project\",\n",
    "    participant_id=\"test_participant_2\",\n",
    "    role=\"host\"\n",
    ")"
   ]
  },
  {
   "cell_type": "markdown",
   "metadata": {},
   "source": [
    "#### 1F. Participants registers their tags for a specific project"
   ]
  },
  {
   "cell_type": "code",
   "execution_count": 8,
   "metadata": {
    "scrolled": true
   },
   "outputs": [
    {
     "data": {
      "text/plain": [
       "{'data': {'doc_id': '2',\n",
       "  'kind': 'Tag',\n",
       "  'key': {'project_id': 'test_project',\n",
       "   'participant_id': 'test_participant_2'},\n",
       "  'train': [['train']],\n",
       "  'evaluate': [['evaluate']],\n",
       "  'predict': [['predict']]},\n",
       " 'apiVersion': '0.0.1',\n",
       " 'success': 1,\n",
       " 'status': 201,\n",
       " 'method': 'tags.post',\n",
       " 'params': {'project_id': 'test_project',\n",
       "  'participant_id': 'test_participant_2'}}"
      ]
     },
     "execution_count": 8,
     "metadata": {},
     "output_type": "execute_result"
    }
   ],
   "source": [
    "driver.tags.create(\n",
    "    project_id=\"test_project\",\n",
    "    participant_id=\"test_participant_1\",\n",
    "    train=[[\"train\"]],\n",
    "    evaluate=[[\"evaluate\"]],\n",
    "    predict = [[\"predict\"]]\n",
    ")\n",
    "\n",
    "driver.tags.create(\n",
    "    project_id=\"test_project\",\n",
    "    participant_id=\"test_participant_2\",\n",
    "    train=[[\"train\"]],\n",
    "    evaluate=[[\"evaluate\"]],\n",
    "    predict=[[\"predict\"]]\n",
    ")"
   ]
  },
  {
   "cell_type": "markdown",
   "metadata": {},
   "source": [
    "## Phase 2:\n",
    "Alignment, Training & Optimisation"
   ]
  },
  {
   "cell_type": "markdown",
   "metadata": {},
   "source": [
    "#### 2A. Perform multiple feature alignment to dynamically configure datasets and models for cross-grid compatibility"
   ]
  },
  {
   "cell_type": "code",
   "execution_count": 9,
   "metadata": {},
   "outputs": [
    {
     "data": {
      "text/plain": [
       "{'apiVersion': '0.0.1',\n",
       " 'success': 1,\n",
       " 'status': 201,\n",
       " 'method': 'alignments.post',\n",
       " 'params': {'project_id': 'test_project'},\n",
       " 'data': [{'created_at': '2020-09-25 08:56:35 N',\n",
       "   'evaluate': {'X': [], 'y': []},\n",
       "   'key': {'participant_id': 'test_participant_1',\n",
       "    'project_id': 'test_project'},\n",
       "   'link': {'alignment_id': '042790a0ff0d11eaaa510242ac110004',\n",
       "    'registration_id': 'd896346eff0c11eaa6770242ac110004',\n",
       "    'tag_id': 'd8f4c8b2ff0c11ea922e0242ac110004'},\n",
       "   'predict': {'X': [], 'y': []},\n",
       "   'train': {'X': [], 'y': []},\n",
       "   'relations': {},\n",
       "   'doc_id': 1,\n",
       "   'kind': 'Alignment'},\n",
       "  {'created_at': '2020-09-25 08:56:35 N',\n",
       "   'evaluate': {'X': [], 'y': []},\n",
       "   'key': {'participant_id': 'test_participant_2',\n",
       "    'project_id': 'test_project'},\n",
       "   'link': {'alignment_id': '042a4ad4ff0d11eaaa510242ac110004',\n",
       "    'registration_id': 'd89a4144ff0c11ea9d280242ac110004',\n",
       "    'tag_id': 'd8f7fa14ff0c11eab5470242ac110004'},\n",
       "   'predict': {'X': [], 'y': []},\n",
       "   'train': {'X': [], 'y': []},\n",
       "   'relations': {},\n",
       "   'doc_id': 2,\n",
       "   'kind': 'Alignment'}]}"
      ]
     },
     "execution_count": 9,
     "metadata": {},
     "output_type": "execute_result"
    }
   ],
   "source": [
    "driver.alignments.create(project_id=\"test_project\")"
   ]
  },
  {
   "cell_type": "markdown",
   "metadata": {},
   "source": [
    "#### 2B. Trigger training across the federated grid"
   ]
  },
  {
   "cell_type": "code",
   "execution_count": 10,
   "metadata": {},
   "outputs": [],
   "source": [
    "model_resp = driver.models.create(\n",
    "    project_id=\"test_project\",\n",
    "    expt_id=\"test_experiment\",\n",
    "    run_id=\"test_run\"\n",
    ")"
   ]
  },
  {
   "cell_type": "markdown",
   "metadata": {},
   "source": [
    "#### 2C. Trigger hyperparameter optimisation across the grid"
   ]
  },
  {
   "cell_type": "code",
   "execution_count": null,
   "metadata": {},
   "outputs": [],
   "source": []
  },
  {
   "cell_type": "markdown",
   "metadata": {},
   "source": [
    "## Phase 3: EVALUATE \n",
    "Validation & Predictions"
   ]
  },
  {
   "cell_type": "markdown",
   "metadata": {},
   "source": [
    "#### 3A. Perform validation(s) of combination(s)"
   ]
  },
  {
   "cell_type": "code",
   "execution_count": 10,
   "metadata": {},
   "outputs": [
    {
     "data": {
      "text/plain": [
       "{'message': 'Internal Server Error'}"
      ]
     },
     "execution_count": 10,
     "metadata": {},
     "output_type": "execute_result"
    }
   ],
   "source": [
    "driver.validations.create(\n",
    "    project_id=\"test_project\",\n",
    "    expt_id=\"test_experiment\",\n",
    "    run_id=\"test_run\"\n",
    ")"
   ]
  },
  {
   "cell_type": "markdown",
   "metadata": {},
   "source": [
    "#### 3B. Perform prediction(s) of combination(s)"
   ]
  },
  {
   "cell_type": "code",
   "execution_count": null,
   "metadata": {},
   "outputs": [],
   "source": [
    "driver.predictions.create(\n",
    "    tags={\"test_project\": [[\"iid_1\"]]},\n",
    "    participant_id=\"test_participant_1\",\n",
    "    project_id=\"test_project\",\n",
    "    expt_id=\"test_experiment\",\n",
    "    run_id=\"test_run\"\n",
    ")"
   ]
  },
  {
   "cell_type": "code",
   "execution_count": null,
   "metadata": {},
   "outputs": [],
   "source": []
  }
 ],
 "metadata": {
  "kernelspec": {
   "display_name": "Python 3",
   "language": "python",
   "name": "python3"
  },
  "language_info": {
   "codemirror_mode": {
    "name": "ipython",
    "version": 3
   },
   "file_extension": ".py",
   "mimetype": "text/x-python",
   "name": "python",
   "nbconvert_exporter": "python",
   "pygments_lexer": "ipython3",
   "version": "3.7.4"
  }
 },
 "nbformat": 4,
 "nbformat_minor": 4
}
