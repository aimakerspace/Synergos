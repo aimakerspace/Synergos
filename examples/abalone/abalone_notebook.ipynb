{
 "cells": [
  {
   "cell_type": "markdown",
   "metadata": {},
   "source": [
    "# Running a Federated Cycle with Synergos\n",
    "\n",
    "This tutorial aims to give you an understanding of how to use the synergos package to run a full federated learning cycle. \n",
    "\n",
    "In a federated learning system, there are many contributory participants, known as Worker nodes, which receive a global model to train on, with their own local dataset. The dataset does not leave the individual Worker nodes at any point, and remains private to the node.\n",
    "\n",
    "The job to synchronize, orchestrate and initiate an federated learning cycle, falls on a Trusted Third Party (TTP). The TTP pushes out the global model architecture and parameters for the individual nodes to train on, calling upon the required data, based on tags, e.g \"training\", which points to relevant data on the individual nodes. At no point does the TTP receive, copy or access the Worker nodes' local datasets.\n",
    "\n",
    "In this tutorial, you will go through the steps required by each participant (TTP and Worker), by simulating each of them locally with docker containers. Specifically, we will simulate a TTP and 2 Workers. \n",
    "\n",
    "At the end of this, we will have:\n",
    "- Connected the participants\n",
    "- Trained the model\n",
    "- Evaluate the model\n",
    "\n",
    "## About the Dataset and Task\n",
    "\n",
    "The dataset used in this notebook is on abalone age, comprising 8 predictor features, and 1 target feature. The dataset can be downloaded from [here](https://drive.google.com/drive/folders/15EpZaYr7gBYMKULZgpVTrJiDYZP0bQTv?usp=sharing). The task to be carried out will be a classification prediction."
   ]
  },
  {
   "cell_type": "markdown",
   "metadata": {},
   "source": [
    "## Initiating the docker containers"
   ]
  },
  {
   "cell_type": "markdown",
   "metadata": {},
   "source": [
    "Before we begin, we have to start the docker containers.\n",
    "\n",
    "Firstly, follow the instructions on [pysyft_ttp readme](https://gitlab.int.aisingapore.org/aims/federatedlearning/pysyft_worker/-/tree/dev) and [pysyft_worker readme](https://gitlab.int.aisingapore.org/aims/federatedlearning/pysyft_ttp/-/tree/plan_integrations) on how to build the required docker images for TTP and Workers.\n",
    "\n",
    "Next, in <u>separate</u> CLI terminals, run the following command:\n",
    "\n",
    "**Note: For Windows users, it is advisable to use powershell or command prompt based interfaces**\n",
    "\n",
    "**Worker 1**\n",
    "\n",
    "```docker run -v <directory abalone/data1>:/worker/data -v <directory abalone/outputs_1>:/worker/outputs --name worker_1 worker:pysyft_demo```\n",
    "\n",
    "**Worker 2**\n",
    "\n",
    "```docker run -v <directory abalone/data2>:/worker/data -v <directory abalone/outputs_2>:/worker/outputs --name worker_2 worker:pysyft_demo```\n",
    "\n",
    "**TTP**\n",
    "\n",
    "```docker run -p 0.0.0.0:5000:5000 -p 5678:5678 -p 8020:8020 -p 8080:8080 -v <directory abalone/mlflow_test>:/ttp/mlflow --name ttp --link worker_1 --link worker_2 ttp:pysyft_demo```"
   ]
  },
  {
   "cell_type": "markdown",
   "metadata": {},
   "source": [
    "Once ready, for each terminal, you should see that a Flask app is running on http://0.0.0.0:5000 of the container.\n",
    "\n",
    "You are now ready for the next step."
   ]
  },
  {
   "cell_type": "markdown",
   "metadata": {},
   "source": [
    "## Configuration\n",
    "\n",
    "In a new terminal, run `docker inspect bridge` and find the IPv4Address for each container. Ideally, the containers should have the following addresses:\n",
    "- worker_1 address: 172.17.0.2\n",
    "- worker_2 address: 172.17.0.3\n",
    "- ttp address: 172.17.0.4\n",
    "\n",
    "If not, just note the relevant IP addresses for each docker container.\n",
    "\n",
    "Run the following cells below.\n",
    "\n",
    "**Note: For Windows users, `host` should be Docker Desktop VM's IP. Follow [this](https://stackoverflow.com/questions/58073936/how-to-get-ip-address-of-docker-desktop-vm) on instructions to find IP**"
   ]
  },
  {
   "cell_type": "markdown",
   "metadata": {},
   "source": [
    "## Initializing Synergos driver"
   ]
  },
  {
   "cell_type": "code",
   "execution_count": 1,
   "metadata": {},
   "outputs": [],
   "source": [
    "from synergos import Driver\n",
    "\n",
    "host = \"localhost\"\n",
    "port = 15000\n",
    "\n",
    "driver = Driver(host=host, port=port)"
   ]
  },
  {
   "cell_type": "markdown",
   "metadata": {},
   "source": [
    "## Phase 1: CONNECT - Submitting TTP & Participant metadata #"
   ]
  },
  {
   "cell_type": "markdown",
   "metadata": {},
   "source": [
    "#### 1A. TTP controller creates a project\n",
    "\n",
    "Create a project which is a classification task with action=\"classify\", if the project is a regression task thenn action=\"regress\"."
   ]
  },
  {
   "cell_type": "code",
   "execution_count": 2,
   "metadata": {},
   "outputs": [
    {
     "data": {
      "text/plain": [
       "{'data': {'doc_id': '2',\n",
       "  'kind': 'Project',\n",
       "  'key': {'project_id': 'ks_project_1'},\n",
       "  'relations': {'Experiment': [],\n",
       "   'Run': [],\n",
       "   'Registration': [],\n",
       "   'Tag': [],\n",
       "   'Model': [],\n",
       "   'Validation': [],\n",
       "   'Prediction': []},\n",
       "  'action': 'regress',\n",
       "  'incentives': {'tier_2': [], 'tier_1': []}},\n",
       " 'apiVersion': '0.0.1',\n",
       " 'success': 1,\n",
       " 'status': 201,\n",
       " 'method': 'projects.post',\n",
       " 'params': {}}"
      ]
     },
     "execution_count": 2,
     "metadata": {},
     "output_type": "execute_result"
    }
   ],
   "source": [
    "# 1A. TTP controller creates a project\n",
    "driver.projects.create(\n",
    "    project_id=\"ks_project_1\",\n",
    "    action=\"regress\",\n",
    "    incentives={\n",
    "        'tier_1': [],\n",
    "        'tier_2': []\n",
    "    }\n",
    ")"
   ]
  },
  {
   "cell_type": "markdown",
   "metadata": {},
   "source": [
    "#### 1B. TTP controller creates an experiment"
   ]
  },
  {
   "cell_type": "code",
   "execution_count": 3,
   "metadata": {},
   "outputs": [
    {
     "data": {
      "text/plain": [
       "{'apiVersion': '0.0.1',\n",
       " 'success': 1,\n",
       " 'status': 201,\n",
       " 'method': 'experiments.post',\n",
       " 'params': {'project_id': 'ks_project_1'},\n",
       " 'data': {'created_at': '2020-10-26 03:44:20 N',\n",
       "  'key': {'expt_id': 'ks_experiment_1', 'project_id': 'ks_project_1'},\n",
       "  'model': [{'activation': '',\n",
       "    'is_input': True,\n",
       "    'l_type': 'Linear',\n",
       "    'structure': {'bias': True, 'in_features': 28, 'out_features': 1}}],\n",
       "  'relations': {'Run': [], 'Model': [], 'Validation': [], 'Prediction': []},\n",
       "  'doc_id': 2,\n",
       "  'kind': 'Experiment'}}"
      ]
     },
     "execution_count": 3,
     "metadata": {},
     "output_type": "execute_result"
    }
   ],
   "source": [
    "# 1B. TTP controller creates an experiment\n",
    "driver.experiments.create(\n",
    "    project_id=\"ks_project_1\",\n",
    "    expt_id=\"ks_experiment_1\",\n",
    "    model=[\n",
    "        {\n",
    "            \"activation\": \"\",\n",
    "            \"is_input\": True,\n",
    "            \"l_type\": \"Linear\",\n",
    "            \"structure\": {\n",
    "                \"bias\": True,\n",
    "                \"in_features\": 28,\n",
    "                \"out_features\": 1\n",
    "            }\n",
    "        }\n",
    "    ]\n",
    ")"
   ]
  },
  {
   "cell_type": "markdown",
   "metadata": {},
   "source": [
    "#### 1C. TTP controller creates a run"
   ]
  },
  {
   "cell_type": "code",
   "execution_count": 4,
   "metadata": {},
   "outputs": [
    {
     "data": {
      "text/plain": [
       "{'data': {'doc_id': '2',\n",
       "  'kind': 'Run',\n",
       "  'key': {'project_id': 'ks_project_1',\n",
       "   'expt_id': 'ks_experiment_1',\n",
       "   'run_id': 'test_run'},\n",
       "  'relations': {'Model': [{'doc_id': '1',\n",
       "     'kind': 'Model',\n",
       "     'key': {'project_id': 'ks_test_project_3',\n",
       "      'expt_id': 'ks_test_experiment_3',\n",
       "      'run_id': 'test_run'},\n",
       "     'global': {'origin': 'ttp',\n",
       "      'path': '/ttp/outputs/ks_test_project_3/ks_test_experiment_3/test_run/global_model.pt',\n",
       "      'loss_history': '/ttp/outputs/ks_test_project_3/ks_test_experiment_3/test_run/global_loss_history.json'},\n",
       "     'local_2': {'origin': 'test_participant_2',\n",
       "      'path': '/ttp/outputs/ks_test_project_3/ks_test_experiment_3/test_run/local_model_test_participant_2.pt',\n",
       "      'loss_history': '/ttp/outputs/ks_test_project_3/ks_test_experiment_3/test_run/local_loss_history_test_participant_2.json'},\n",
       "     'local_1': {'origin': 'test_participant_1',\n",
       "      'path': '/ttp/outputs/ks_test_project_3/ks_test_experiment_3/test_run/local_model_test_participant_1.pt',\n",
       "      'loss_history': '/ttp/outputs/ks_test_project_3/ks_test_experiment_3/test_run/local_loss_history_test_participant_1.json'}}],\n",
       "   'Validation': [{'doc_id': '1',\n",
       "     'kind': 'Validation',\n",
       "     'key': {'participant_id': 'test_participant_1',\n",
       "      'project_id': 'ks_test_project_3',\n",
       "      'expt_id': 'ks_test_experiment_3',\n",
       "      'run_id': 'test_run'},\n",
       "     'evaluate': {'statistics': {'accuracy': [0.9977064220183486,\n",
       "        0.9977064220183486,\n",
       "        0.9885321100917431,\n",
       "        0.9701834862385321,\n",
       "        0.9426605504587156,\n",
       "        0.6261467889908257,\n",
       "        0.8876146788990825,\n",
       "        0.8371559633027523,\n",
       "        0.8325688073394495,\n",
       "        0.8990825688073395,\n",
       "        0.9174311926605505,\n",
       "        0.9610091743119266,\n",
       "        0.9701834862385321,\n",
       "        0.2958715596330275,\n",
       "        0.9770642201834863,\n",
       "        0.9862385321100917,\n",
       "        0.9977064220183486,\n",
       "        0.9885321100917431,\n",
       "        0.981651376146789,\n",
       "        0.9954128440366973,\n",
       "        1.0,\n",
       "        1.0,\n",
       "        1.0,\n",
       "        1.0,\n",
       "        1.0,\n",
       "        1.0],\n",
       "       'roc_auc_score': [0.6965517241379311,\n",
       "        0.9241379310344827,\n",
       "        0.12668213457076571,\n",
       "        0.14402618657937807,\n",
       "        0.44973236009732365,\n",
       "        0.16080493110949964,\n",
       "        0.4977060591678532,\n",
       "        0.48801852209145274,\n",
       "        0.4295633797501792,\n",
       "        0.39001692047377323,\n",
       "        0.5470138888888889,\n",
       "        0.5816369507230099,\n",
       "        0.6419348972540462,\n",
       "        0.5561011904761906,\n",
       "        0.4345070422535211,\n",
       "        0.625968992248062,\n",
       "        0.025287356321839094,\n",
       "        0.5883990719257541,\n",
       "        0.7041471962616822,\n",
       "        0.49539170506912444,\n",
       "        0.0,\n",
       "        0.0,\n",
       "        0.0,\n",
       "        0.0,\n",
       "        0.0,\n",
       "        0.0],\n",
       "       'pr_auc_score': [0.0037593984962406013,\n",
       "        0.014705882352941176,\n",
       "        0.0064350050649934955,\n",
       "        0.016230554882251905,\n",
       "        0.04819657825830648,\n",
       "        0.05555321513029906,\n",
       "        0.13296815757761618,\n",
       "        0.15922797334721986,\n",
       "        0.1438166584750445,\n",
       "        0.07200385568456734,\n",
       "        0.0859794678022095,\n",
       "        0.04946245344828432,\n",
       "        0.04096418182026393,\n",
       "        0.05485738245829763,\n",
       "        0.024145110513647608,\n",
       "        0.029151571536863576,\n",
       "        0.001176470588235294,\n",
       "        0.013260544506235459,\n",
       "        0.23661658721151954,\n",
       "        0.004236312294328189,\n",
       "        nan,\n",
       "        nan,\n",
       "        nan,\n",
       "        nan,\n",
       "        nan,\n",
       "        nan],\n",
       "       'f_score': [0.0,\n",
       "        0.0,\n",
       "        0.0,\n",
       "        0.0,\n",
       "        0.0,\n",
       "        0.012121212121212121,\n",
       "        0.0,\n",
       "        0.0,\n",
       "        0.0,\n",
       "        0.0,\n",
       "        0.0,\n",
       "        0.0,\n",
       "        0.0,\n",
       "        0.06116207951070336,\n",
       "        0.0,\n",
       "        0.0,\n",
       "        0.0,\n",
       "        0.0,\n",
       "        0.0,\n",
       "        0.0,\n",
       "        0.0,\n",
       "        0.0,\n",
       "        0.0,\n",
       "        0.0,\n",
       "        0.0,\n",
       "        0.0],\n",
       "       'TPRs': [0.0,\n",
       "        0.0,\n",
       "        0.0,\n",
       "        0.0,\n",
       "        0.0,\n",
       "        0.023809523809523808,\n",
       "        0.0,\n",
       "        0.0,\n",
       "        0.0,\n",
       "        0.0,\n",
       "        0.0,\n",
       "        0.0,\n",
       "        0.0,\n",
       "        0.625,\n",
       "        0.0,\n",
       "        0.0,\n",
       "        0.0,\n",
       "        0.0,\n",
       "        0.0,\n",
       "        0.0],\n",
       "       'TNRs': [1.0,\n",
       "        1.0,\n",
       "        1.0,\n",
       "        1.0,\n",
       "        1.0,\n",
       "        0.6903553299492385,\n",
       "        1.0,\n",
       "        1.0,\n",
       "        1.0,\n",
       "        0.9949238578680203,\n",
       "        1.0,\n",
       "        1.0,\n",
       "        1.0,\n",
       "        0.2833333333333333,\n",
       "        1.0,\n",
       "        1.0,\n",
       "        1.0,\n",
       "        1.0,\n",
       "        1.0,\n",
       "        1.0],\n",
       "       'PPVs': [0.0,\n",
       "        0.0,\n",
       "        0.0,\n",
       "        0.0,\n",
       "        0.0,\n",
       "        0.008130081300813009,\n",
       "        0.0,\n",
       "        0.0,\n",
       "        0.0,\n",
       "        0.0,\n",
       "        0.0,\n",
       "        0.0,\n",
       "        0.0,\n",
       "        0.03215434083601286,\n",
       "        0.0,\n",
       "        0.0,\n",
       "        0.0,\n",
       "        0.0,\n",
       "        0.0,\n",
       "        0.0],\n",
       "       'NPVs': [0.9977064220183486,\n",
       "        0.9977064220183486,\n",
       "        0.9885321100917431,\n",
       "        0.9701834862385321,\n",
       "        0.9426605504587156,\n",
       "        0.8690095846645367,\n",
       "        0.8876146788990825,\n",
       "        0.8371559633027523,\n",
       "        0.8325688073394495,\n",
       "        0.9032258064516129,\n",
       "        0.9174311926605505,\n",
       "        0.9610091743119266,\n",
       "        0.9701834862385321,\n",
       "        0.952,\n",
       "        0.9770642201834863,\n",
       "        0.9862385321100917,\n",
       "        0.9977064220183486,\n",
       "        0.9885321100917431,\n",
       "        0.981651376146789,\n",
       "        0.9954128440366973],\n",
       "       'FPRs': [0.0,\n",
       "        0.0,\n",
       "        0.0,\n",
       "        0.0,\n",
       "        0.0,\n",
       "        0.3096446700507614,\n",
       "        0.0,\n",
       "        0.0,\n",
       "        0.0,\n",
       "        0.005076142131979695,\n",
       "        0.0,\n",
       "        0.0,\n",
       "        0.0,\n",
       "        0.7166666666666667,\n",
       "        0.0,\n",
       "        0.0,\n",
       "        0.0,\n",
       "        0.0,\n",
       "        0.0,\n",
       "        0.0],\n",
       "       'FNRs': [1.0,\n",
       "        1.0,\n",
       "        1.0,\n",
       "        1.0,\n",
       "        1.0,\n",
       "        0.9761904761904762,\n",
       "        1.0,\n",
       "        1.0,\n",
       "        1.0,\n",
       "        1.0,\n",
       "        1.0,\n",
       "        1.0,\n",
       "        1.0,\n",
       "        0.375,\n",
       "        1.0,\n",
       "        1.0,\n",
       "        1.0,\n",
       "        1.0,\n",
       "        1.0,\n",
       "        1.0],\n",
       "       'FDRs': [0.0,\n",
       "        0.0,\n",
       "        0.0,\n",
       "        0.0,\n",
       "        0.0,\n",
       "        0.991869918699187,\n",
       "        0.0,\n",
       "        0.0,\n",
       "        0.0,\n",
       "        1.0,\n",
       "        0.0,\n",
       "        0.0,\n",
       "        0.0,\n",
       "        0.9678456591639871,\n",
       "        0.0,\n",
       "        0.0,\n",
       "        0.0,\n",
       "        0.0,\n",
       "        0.0,\n",
       "        0.0],\n",
       "       'TPs': [0, 0, 0, 0, 0, 1, 0, 0, 0, 0, 0, 0, 0, 10, 0, 0, 0, 0, 0, 0],\n",
       "       'TNs': [435,\n",
       "        435,\n",
       "        431,\n",
       "        423,\n",
       "        411,\n",
       "        272,\n",
       "        387,\n",
       "        365,\n",
       "        363,\n",
       "        392,\n",
       "        400,\n",
       "        419,\n",
       "        423,\n",
       "        119,\n",
       "        426,\n",
       "        430,\n",
       "        435,\n",
       "        431,\n",
       "        428,\n",
       "        434],\n",
       "       'FPs': [0, 0, 0, 0, 0, 122, 0, 0, 0, 2, 0, 0, 0, 301, 0, 0, 0, 0, 0, 0],\n",
       "       'FNs': [1,\n",
       "        1,\n",
       "        5,\n",
       "        13,\n",
       "        25,\n",
       "        41,\n",
       "        49,\n",
       "        71,\n",
       "        73,\n",
       "        42,\n",
       "        36,\n",
       "        17,\n",
       "        13,\n",
       "        6,\n",
       "        10,\n",
       "        6,\n",
       "        1,\n",
       "        5,\n",
       "        8,\n",
       "        2]},\n",
       "      'res_path': '/worker/outputs/ks_test_project_3/ks_test_experiment_3/test_run/evaluate/inference_statistics_evaluate.json'}}],\n",
       "   'Prediction': []},\n",
       "  'rounds': 2,\n",
       "  'epochs': 1,\n",
       "  'lr': 0.001,\n",
       "  'lr_decay': 0.1,\n",
       "  'weight_decay': 0.0,\n",
       "  'seed': 42,\n",
       "  'precision_fractional': 5,\n",
       "  'mu': 0.1,\n",
       "  'l1_lambda': 0.0,\n",
       "  'l2_lambda': 0.0,\n",
       "  'base_lr': 0.0005,\n",
       "  'max_lr': 0.005,\n",
       "  'patience': 10,\n",
       "  'delta': 0.0},\n",
       " 'apiVersion': '0.0.1',\n",
       " 'success': 1,\n",
       " 'status': 201,\n",
       " 'method': 'runs.post',\n",
       " 'params': {'project_id': 'ks_project_1', 'expt_id': 'ks_experiment_1'}}"
      ]
     },
     "execution_count": 4,
     "metadata": {},
     "output_type": "execute_result"
    }
   ],
   "source": [
    "driver.runs.create(\n",
    "    project_id=\"ks_project_1\",\n",
    "    expt_id=\"ks_experiment_1\",\n",
    "    run_id=\"test_run\",\n",
    "    rounds=2, \n",
    "    epochs=1,\n",
    "    base_lr=0.0005,\n",
    "    max_lr=0.005,\n",
    "    criterion=\"MSELoss\"\n",
    ")"
   ]
  },
  {
   "cell_type": "markdown",
   "metadata": {},
   "source": [
    "#### 1D. Participants registers their servers' configurations"
   ]
  },
  {
   "cell_type": "code",
   "execution_count": 5,
   "metadata": {},
   "outputs": [
    {
     "data": {
      "text/plain": [
       "{'data': {'doc_id': '2',\n",
       "  'kind': 'Participant',\n",
       "  'key': {'participant_id': 'test_participant_2'},\n",
       "  'relations': {'Registration': [{'doc_id': '2',\n",
       "     'kind': 'Registration',\n",
       "     'key': {'project_id': 'ks_test_project_3',\n",
       "      'participant_id': 'test_participant_2'},\n",
       "     'role': 'host'}],\n",
       "   'Tag': [{'doc_id': '2',\n",
       "     'kind': 'Tag',\n",
       "     'key': {'project_id': 'ks_test_project_3',\n",
       "      'participant_id': 'test_participant_2'},\n",
       "     'train': [['train']],\n",
       "     'evaluate': [],\n",
       "     'predict': []}]},\n",
       "  'id': 'test_participant_2',\n",
       "  'host': '172.19.152.153',\n",
       "  'port': 8020,\n",
       "  'log_msgs': True,\n",
       "  'verbose': True,\n",
       "  'f_port': 5000},\n",
       " 'apiVersion': '0.0.1',\n",
       " 'success': 1,\n",
       " 'status': 201,\n",
       " 'method': 'participants.post',\n",
       " 'params': {}}"
      ]
     },
     "execution_count": 5,
     "metadata": {},
     "output_type": "execute_result"
    }
   ],
   "source": [
    "driver.participants.create(\n",
    "    participant_id=\"test_participant_1\",\n",
    "    host='172.19.152.152',\n",
    "#     host='172.17.0.2',\n",
    "    port=8020,\n",
    "    f_port=5000,\n",
    "    log_msgs=True,\n",
    "    verbose=True\n",
    ")\n",
    "\n",
    "driver.participants.create(\n",
    "    participant_id=\"test_participant_2\",\n",
    "    host='172.19.152.153',\n",
    "#     host='172.17.0.3',\n",
    "    port=8020,\n",
    "    f_port=5000,\n",
    "    log_msgs=True,\n",
    "    verbose=True\n",
    ")"
   ]
  },
  {
   "cell_type": "markdown",
   "metadata": {},
   "source": [
    "#### 1E. Participants registers their role in a specific project"
   ]
  },
  {
   "cell_type": "code",
   "execution_count": 6,
   "metadata": {},
   "outputs": [
    {
     "data": {
      "text/plain": [
       "{'data': {'doc_id': '4',\n",
       "  'kind': 'Registration',\n",
       "  'key': {'project_id': 'ks_project_1',\n",
       "   'participant_id': 'test_participant_2'},\n",
       "  'relations': {'Tag': []},\n",
       "  'project': {'incentives': {'tier_2': [], 'tier_1': []}, 'start_at': None},\n",
       "  'participant': {'id': 'test_participant_2',\n",
       "   'host': '172.19.152.153',\n",
       "   'port': 8020,\n",
       "   'f_port': 5000,\n",
       "   'log_msgs': True,\n",
       "   'verbose': True},\n",
       "  'role': 'host'},\n",
       " 'apiVersion': '0.0.1',\n",
       " 'success': 1,\n",
       " 'status': 201,\n",
       " 'method': 'registration.post',\n",
       " 'params': {}}"
      ]
     },
     "execution_count": 6,
     "metadata": {},
     "output_type": "execute_result"
    }
   ],
   "source": [
    "driver.registrations.create(\n",
    "    project_id=\"ks_project_1\",\n",
    "    participant_id=\"test_participant_1\",\n",
    "    role=\"guest\"\n",
    ")\n",
    "\n",
    "driver.registrations.create(\n",
    "    project_id=\"ks_project_1\",\n",
    "    participant_id=\"test_participant_2\",\n",
    "    role=\"host\"\n",
    ")"
   ]
  },
  {
   "cell_type": "markdown",
   "metadata": {},
   "source": [
    "#### 1F. Participants registers their tags for a specific project"
   ]
  },
  {
   "cell_type": "code",
   "execution_count": 7,
   "metadata": {},
   "outputs": [
    {
     "data": {
      "text/plain": [
       "{'data': {'doc_id': '4',\n",
       "  'kind': 'Tag',\n",
       "  'key': {'project_id': 'ks_project_1',\n",
       "   'participant_id': 'test_participant_2'},\n",
       "  'train': [['train']],\n",
       "  'evaluate': [],\n",
       "  'predict': []},\n",
       " 'apiVersion': '0.0.1',\n",
       " 'success': 1,\n",
       " 'status': 201,\n",
       " 'method': 'tags.post',\n",
       " 'params': {'project_id': 'ks_project_1',\n",
       "  'participant_id': 'test_participant_2'}}"
      ]
     },
     "execution_count": 7,
     "metadata": {},
     "output_type": "execute_result"
    }
   ],
   "source": [
    "driver.tags.create(\n",
    "    project_id=\"ks_project_1\",\n",
    "    participant_id=\"test_participant_1\",\n",
    "    train=[\n",
    "        [\"train\"]\n",
    "    ],\n",
    "    evaluate = [[\"evaluate\"]]\n",
    ")\n",
    "\n",
    "driver.tags.create(\n",
    "    project_id=\"ks_project_1\",\n",
    "    participant_id=\"test_participant_2\",\n",
    "    train=[[\"train\"]]\n",
    ")"
   ]
  },
  {
   "cell_type": "markdown",
   "metadata": {},
   "source": [
    "## Phase 2: TRAIN - Alignment, Training & Optimisation"
   ]
  },
  {
   "cell_type": "markdown",
   "metadata": {},
   "source": [
    "#### 2A. Perform multiple feature alignment to dynamically configure datasets and models for cross-grid compatibility"
   ]
  },
  {
   "cell_type": "code",
   "execution_count": 8,
   "metadata": {},
   "outputs": [
    {
     "data": {
      "text/plain": [
       "{'apiVersion': '0.0.1',\n",
       " 'success': 1,\n",
       " 'status': 201,\n",
       " 'method': 'alignments.post',\n",
       " 'params': {'project_id': 'ks_project_1'},\n",
       " 'data': [{'created_at': '2020-10-26 03:44:30 N',\n",
       "   'key': {'participant_id': 'test_participant_2',\n",
       "    'project_id': 'ks_project_1'},\n",
       "   'link': {'alignment_id': '8dcd39fc173d11ebbf990242c0a80002',\n",
       "    'registration_id': '8bb6d2ea173d11eb87750242c0a80002',\n",
       "    'tag_id': '8bf9af16173d11ebba490242c0a80002'},\n",
       "   'train': {'X': [], 'y': []},\n",
       "   'relations': {},\n",
       "   'doc_id': 3,\n",
       "   'kind': 'Alignment'},\n",
       "  {'created_at': '2020-10-26 03:44:30 N',\n",
       "   'evaluate': {'X': [], 'y': []},\n",
       "   'key': {'participant_id': 'test_participant_1',\n",
       "    'project_id': 'ks_project_1'},\n",
       "   'link': {'alignment_id': '8dd003e4173d11ebbf990242c0a80002',\n",
       "    'registration_id': '8baa129e173d11ebac740242c0a80002',\n",
       "    'tag_id': '8bf3f77e173d11eb96dd0242c0a80002'},\n",
       "   'train': {'X': [], 'y': []},\n",
       "   'relations': {},\n",
       "   'doc_id': 4,\n",
       "   'kind': 'Alignment'}]}"
      ]
     },
     "execution_count": 8,
     "metadata": {},
     "output_type": "execute_result"
    }
   ],
   "source": [
    "driver.alignments.create(project_id=\"ks_project_1\")"
   ]
  },
  {
   "cell_type": "markdown",
   "metadata": {},
   "source": [
    "#### 2B. Trigger training across the federated grid"
   ]
  },
  {
   "cell_type": "code",
   "execution_count": 9,
   "metadata": {},
   "outputs": [],
   "source": [
    "model_resp = driver.models.create(\n",
    "        project_id=\"ks_project_1\",\n",
    "        expt_id=\"ks_experiment_1\",\n",
    "        run_id=\"test_run\")"
   ]
  },
  {
   "cell_type": "markdown",
   "metadata": {},
   "source": [
    "## Phase 3: EVALUATE - Validation & Predictions"
   ]
  },
  {
   "cell_type": "markdown",
   "metadata": {},
   "source": [
    "#### 3A. Perform validation(s) of combination(s)"
   ]
  },
  {
   "cell_type": "code",
   "execution_count": 10,
   "metadata": {},
   "outputs": [
    {
     "data": {
      "text/plain": [
       "{'data': [{'doc_id': '2',\n",
       "   'kind': 'Validation',\n",
       "   'key': {'participant_id': 'test_participant_1',\n",
       "    'project_id': 'ks_project_1',\n",
       "    'expt_id': 'ks_experiment_1',\n",
       "    'run_id': 'test_run'},\n",
       "   'evaluate': {'statistics': {'R2': -9.340906783872933,\n",
       "     'MSE': 113.52977166662662,\n",
       "     'MAE': 10.131801647087132},\n",
       "    'res_path': '/worker/outputs/ks_project_1/ks_experiment_1/test_run/evaluate/inference_statistics_evaluate.json'}}],\n",
       " 'apiVersion': '0.0.1',\n",
       " 'success': 1,\n",
       " 'status': 200,\n",
       " 'method': 'validations.post',\n",
       " 'params': {'project_id': 'ks_project_1',\n",
       "  'expt_id': 'ks_experiment_1',\n",
       "  'run_id': 'test_run'}}"
      ]
     },
     "execution_count": 10,
     "metadata": {},
     "output_type": "execute_result"
    }
   ],
   "source": [
    "driver.validations.create(\n",
    "    project_id=\"ks_project_1\",\n",
    "    expt_id=\"ks_experiment_1\",\n",
    "    run_id=\"test_run\"\n",
    ")"
   ]
  },
  {
   "cell_type": "markdown",
   "metadata": {},
   "source": [
    "#### 3B. Perform prediction(s) of combination(s)"
   ]
  },
  {
   "cell_type": "code",
   "execution_count": 11,
   "metadata": {},
   "outputs": [
    {
     "data": {
      "text/plain": [
       "{'data': [{'doc_id': '1',\n",
       "   'kind': 'Prediction',\n",
       "   'key': {'participant_id': 'test_participant_1',\n",
       "    'project_id': 'ks_project_1',\n",
       "    'expt_id': 'ks_experiment_1',\n",
       "    'run_id': 'test_run'},\n",
       "   'predict': {'statistics': {'R2': -9.671762937010781,\n",
       "     'MSE': 105.08107224651725,\n",
       "     'MAE': 9.764873337827265},\n",
       "    'res_path': '/worker/outputs/ks_project_1/ks_experiment_1/test_run/predict/inference_statistics_predict.json'}}],\n",
       " 'apiVersion': '0.0.1',\n",
       " 'success': 1,\n",
       " 'status': 200,\n",
       " 'method': 'predictions.post',\n",
       " 'params': {'project_id': 'ks_project_1',\n",
       "  'expt_id': 'ks_experiment_1',\n",
       "  'run_id': 'test_run',\n",
       "  'participant_id': 'test_participant_1'}}"
      ]
     },
     "execution_count": 11,
     "metadata": {},
     "output_type": "execute_result"
    }
   ],
   "source": [
    "driver.predictions.create(\n",
    "    tags={\"ks_project_1\": [[\"predict\"]]},\n",
    "    participant_id=\"test_participant_1\",\n",
    "    project_id=\"ks_project_1\",\n",
    "    expt_id=\"ks_experiment_1\",\n",
    "    run_id=\"test_run\"\n",
    ")"
   ]
  }
 ],
 "metadata": {
  "kernelspec": {
   "display_name": "Python 3",
   "language": "python",
   "name": "python3"
  },
  "language_info": {
   "codemirror_mode": {
    "name": "ipython",
    "version": 3
   },
   "file_extension": ".py",
   "mimetype": "text/x-python",
   "name": "python",
   "nbconvert_exporter": "python",
   "pygments_lexer": "ipython3",
   "version": "3.8.5"
  }
 },
 "nbformat": 4,
 "nbformat_minor": 4
}
